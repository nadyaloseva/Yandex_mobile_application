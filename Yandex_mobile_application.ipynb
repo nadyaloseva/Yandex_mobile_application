{
 "cells": [
  {
   "cell_type": "markdown",
   "metadata": {},
   "source": [
    "# Анализ поведения пользователей мобильного приложения\n",
    "\n",
    "**Описание проекта**\n",
    "\n",
    "Вы работаете в стартапе, который продаёт продукты питания. Нужно разобраться, как ведут себя пользователи вашего мобильного приложения. \n",
    "Изучите воронку продаж. Узнайте, как пользователи доходят до покупки. Сколько пользователей доходит до покупки, а сколько — «застревает» на предыдущих шагах? На каких именно?\n",
    "\n",
    "После этого исследуйте результаты A/A/B-эксперимента. Дизайнеры захотели поменять шрифты во всём приложении, а менеджеры испугались, что пользователям будет непривычно. Договорились принять решение по результатам A/A/B-теста. Пользователей разбили на 3 группы: 2 контрольные со старыми шрифтами и одну экспериментальную — с новыми. Выясните, какой шрифт лучше.\n",
    "\n",
    "Создание двух групп A вместо одной имеет определённые преимущества. Если две контрольные группы окажутся равны, вы можете быть уверены в точности проведенного тестирования. Если же между значениями A и A будут существенные различия, это поможет обнаружить факторы, которые привели к искажению результатов. Сравнение контрольных групп также помогает понять, сколько времени и данных потребуется для дальнейших тестов.\n",
    "\n",
    "В случае общей аналитики и A/A/B-эксперимента работайте с одними и теми же данными. В реальных проектах всегда идут эксперименты. Аналитики исследуют качество работы приложения по общим данным, не учитывая принадлежность пользователей к экспериментам.\n",
    "\n",
    "**Описание данных**\n",
    "\n",
    "Каждая запись в логе — это действие пользователя, или событие. \n",
    "- EventName — название события;\n",
    "- DeviceIDHash — уникальный идентификатор пользователя;\n",
    "- EventTimestamp — время события;\n",
    "- ExpId — номер эксперимента: 246 и 247 — контрольные группы, а 248 — экспериментальная.\n"
   ]
  },
  {
   "cell_type": "markdown",
   "metadata": {},
   "source": [
    "Составим небольшой план исследования. \n",
    "\n",
    "**План исследования:**\n",
    "1. Предобработка данных: проверим набор данных на пропуски и дубли, чтобы исследования было более честным. \n",
    "2. Проанализируем данные:\n",
    "    - группы пользователей\n",
    "    - среднее количество посещений\n",
    "    - посмотрим полноту данных за весь прериод, скорректируем его при надобности\n",
    "    - рассмотрим распределение пользователей по этапам \n",
    "    - составим воронку продаж\n",
    "3. По результатам прошлого этапа выдвиним гипотезы, которые будем проверять\n",
    "4. Сделаем вывод по исследованию и выдвинутым гипотезам\n",
    "    "
   ]
  },
  {
   "cell_type": "markdown",
   "metadata": {},
   "source": [
    "## Предобработка данных"
   ]
  },
  {
   "cell_type": "code",
   "execution_count": 1,
   "metadata": {},
   "outputs": [
    {
     "data": {
      "text/html": [
       "<div>\n",
       "<style scoped>\n",
       "    .dataframe tbody tr th:only-of-type {\n",
       "        vertical-align: middle;\n",
       "    }\n",
       "\n",
       "    .dataframe tbody tr th {\n",
       "        vertical-align: top;\n",
       "    }\n",
       "\n",
       "    .dataframe thead th {\n",
       "        text-align: right;\n",
       "    }\n",
       "</style>\n",
       "<table border=\"1\" class=\"dataframe\">\n",
       "  <thead>\n",
       "    <tr style=\"text-align: right;\">\n",
       "      <th></th>\n",
       "      <th>EventName</th>\n",
       "      <th>DeviceIDHash</th>\n",
       "      <th>EventTimestamp</th>\n",
       "      <th>ExpId</th>\n",
       "    </tr>\n",
       "  </thead>\n",
       "  <tbody>\n",
       "    <tr>\n",
       "      <th>0</th>\n",
       "      <td>MainScreenAppear</td>\n",
       "      <td>4575588528974610257</td>\n",
       "      <td>1564029816</td>\n",
       "      <td>246</td>\n",
       "    </tr>\n",
       "    <tr>\n",
       "      <th>1</th>\n",
       "      <td>MainScreenAppear</td>\n",
       "      <td>7416695313311560658</td>\n",
       "      <td>1564053102</td>\n",
       "      <td>246</td>\n",
       "    </tr>\n",
       "    <tr>\n",
       "      <th>2</th>\n",
       "      <td>PaymentScreenSuccessful</td>\n",
       "      <td>3518123091307005509</td>\n",
       "      <td>1564054127</td>\n",
       "      <td>248</td>\n",
       "    </tr>\n",
       "    <tr>\n",
       "      <th>3</th>\n",
       "      <td>CartScreenAppear</td>\n",
       "      <td>3518123091307005509</td>\n",
       "      <td>1564054127</td>\n",
       "      <td>248</td>\n",
       "    </tr>\n",
       "    <tr>\n",
       "      <th>4</th>\n",
       "      <td>PaymentScreenSuccessful</td>\n",
       "      <td>6217807653094995999</td>\n",
       "      <td>1564055322</td>\n",
       "      <td>248</td>\n",
       "    </tr>\n",
       "  </tbody>\n",
       "</table>\n",
       "</div>"
      ],
      "text/plain": [
       "                 EventName         DeviceIDHash  EventTimestamp  ExpId\n",
       "0         MainScreenAppear  4575588528974610257      1564029816    246\n",
       "1         MainScreenAppear  7416695313311560658      1564053102    246\n",
       "2  PaymentScreenSuccessful  3518123091307005509      1564054127    248\n",
       "3         CartScreenAppear  3518123091307005509      1564054127    248\n",
       "4  PaymentScreenSuccessful  6217807653094995999      1564055322    248"
      ]
     },
     "execution_count": 1,
     "metadata": {},
     "output_type": "execute_result"
    }
   ],
   "source": [
    "import pandas as pd \n",
    "import datetime as dt\n",
    "import numpy as np\n",
    "import matplotlib.pyplot as plt\n",
    "import scipy.stats as stats\n",
    "from scipy import stats as st\n",
    "import math as mth\n",
    "import plotly.express as px\n",
    "\n",
    "#Загрузка данных \n",
    "data = pd.read_csv('/datasets/logs_exp.csv', sep = '\\t')\n",
    "data.head(5)"
   ]
  },
  {
   "cell_type": "code",
   "execution_count": 2,
   "metadata": {},
   "outputs": [
    {
     "name": "stdout",
     "output_type": "stream",
     "text": [
      "<class 'pandas.core.frame.DataFrame'>\n",
      "RangeIndex: 244126 entries, 0 to 244125\n",
      "Data columns (total 4 columns):\n",
      " #   Column         Non-Null Count   Dtype \n",
      "---  ------         --------------   ----- \n",
      " 0   event_name     244126 non-null  object\n",
      " 1   device_id      244126 non-null  int64 \n",
      " 2   event_dt       244126 non-null  int64 \n",
      " 3   experiment_id  244126 non-null  int64 \n",
      "dtypes: int64(3), object(1)\n",
      "memory usage: 7.5+ MB\n",
      "Кол-во дубликатов:  413\n",
      "Кол-во пропусков: \n",
      "event_name       0\n",
      "device_id        0\n",
      "event_dt         0\n",
      "experiment_id    0\n",
      "dtype: int64\n",
      "Кол-во дубликатов после удаления:  0\n"
     ]
    }
   ],
   "source": [
    "#Перед работой переименуем название столбцов для удобной работы\n",
    "data.columns=['event_name','device_id','event_dt','experiment_id']\n",
    "data.info()\n",
    "#Столбец event_dt имеет неправильный тип, преобразуем его в формат даты\n",
    "data['event_dt']= pd.to_datetime(data['event_dt'], unit='s')\n",
    "\n",
    "#Проверим данные на дубликаты и пропуски\n",
    "print (\"Кол-во дубликатов: \", data.duplicated().sum())\n",
    "print (\"Кол-во пропусков: \")\n",
    "print(data.isnull().sum())\n",
    "\n",
    "#Удаляем дубликаты\n",
    "data = data.drop_duplicates()\n",
    "print (\"Кол-во дубликатов после удаления: \", data.duplicated().sum())"
   ]
  },
  {
   "cell_type": "markdown",
   "metadata": {},
   "source": [
    "Для удобства также выделим дату в отдельный столбец"
   ]
  },
  {
   "cell_type": "code",
   "execution_count": 3,
   "metadata": {},
   "outputs": [
    {
     "data": {
      "text/html": [
       "<div>\n",
       "<style scoped>\n",
       "    .dataframe tbody tr th:only-of-type {\n",
       "        vertical-align: middle;\n",
       "    }\n",
       "\n",
       "    .dataframe tbody tr th {\n",
       "        vertical-align: top;\n",
       "    }\n",
       "\n",
       "    .dataframe thead th {\n",
       "        text-align: right;\n",
       "    }\n",
       "</style>\n",
       "<table border=\"1\" class=\"dataframe\">\n",
       "  <thead>\n",
       "    <tr style=\"text-align: right;\">\n",
       "      <th></th>\n",
       "      <th>event_name</th>\n",
       "      <th>device_id</th>\n",
       "      <th>event_dt</th>\n",
       "      <th>experiment_id</th>\n",
       "      <th>dt</th>\n",
       "    </tr>\n",
       "  </thead>\n",
       "  <tbody>\n",
       "    <tr>\n",
       "      <th>0</th>\n",
       "      <td>MainScreenAppear</td>\n",
       "      <td>4575588528974610257</td>\n",
       "      <td>2019-07-25 04:43:36</td>\n",
       "      <td>246</td>\n",
       "      <td>2019-07-25</td>\n",
       "    </tr>\n",
       "    <tr>\n",
       "      <th>1</th>\n",
       "      <td>MainScreenAppear</td>\n",
       "      <td>7416695313311560658</td>\n",
       "      <td>2019-07-25 11:11:42</td>\n",
       "      <td>246</td>\n",
       "      <td>2019-07-25</td>\n",
       "    </tr>\n",
       "    <tr>\n",
       "      <th>2</th>\n",
       "      <td>PaymentScreenSuccessful</td>\n",
       "      <td>3518123091307005509</td>\n",
       "      <td>2019-07-25 11:28:47</td>\n",
       "      <td>248</td>\n",
       "      <td>2019-07-25</td>\n",
       "    </tr>\n",
       "    <tr>\n",
       "      <th>3</th>\n",
       "      <td>CartScreenAppear</td>\n",
       "      <td>3518123091307005509</td>\n",
       "      <td>2019-07-25 11:28:47</td>\n",
       "      <td>248</td>\n",
       "      <td>2019-07-25</td>\n",
       "    </tr>\n",
       "    <tr>\n",
       "      <th>4</th>\n",
       "      <td>PaymentScreenSuccessful</td>\n",
       "      <td>6217807653094995999</td>\n",
       "      <td>2019-07-25 11:48:42</td>\n",
       "      <td>248</td>\n",
       "      <td>2019-07-25</td>\n",
       "    </tr>\n",
       "  </tbody>\n",
       "</table>\n",
       "</div>"
      ],
      "text/plain": [
       "                event_name            device_id            event_dt  \\\n",
       "0         MainScreenAppear  4575588528974610257 2019-07-25 04:43:36   \n",
       "1         MainScreenAppear  7416695313311560658 2019-07-25 11:11:42   \n",
       "2  PaymentScreenSuccessful  3518123091307005509 2019-07-25 11:28:47   \n",
       "3         CartScreenAppear  3518123091307005509 2019-07-25 11:28:47   \n",
       "4  PaymentScreenSuccessful  6217807653094995999 2019-07-25 11:48:42   \n",
       "\n",
       "   experiment_id          dt  \n",
       "0            246  2019-07-25  \n",
       "1            246  2019-07-25  \n",
       "2            248  2019-07-25  \n",
       "3            248  2019-07-25  \n",
       "4            248  2019-07-25  "
      ]
     },
     "execution_count": 3,
     "metadata": {},
     "output_type": "execute_result"
    }
   ],
   "source": [
    "data['dt'] = data['event_dt'].dt.date\n",
    "\n",
    "data.head(5)"
   ]
  },
  {
   "cell_type": "markdown",
   "metadata": {},
   "source": [
    "В блоке предобработки данных мы: \n",
    "- Заменили названия столбцов на удобные для нас;\n",
    "- Проверили пропуски и типы данных, откорретировали не верные \n",
    "- Добавили столбец даты и времени, а также отдельный столбец дат;"
   ]
  },
  {
   "cell_type": "markdown",
   "metadata": {},
   "source": [
    "## Изучение и проверка данных"
   ]
  },
  {
   "cell_type": "markdown",
   "metadata": {},
   "source": [
    "В этом блоке ответим на несколько важные для дальнейшего изучения вопросов: \n",
    "### Сколько всего событий в логе?"
   ]
  },
  {
   "cell_type": "code",
   "execution_count": 4,
   "metadata": {},
   "outputs": [
    {
     "name": "stdout",
     "output_type": "stream",
     "text": [
      "В логе всего 243713 событий\n",
      "Неповторяющих значений из них 5\n"
     ]
    }
   ],
   "source": [
    "print(\"В логе всего\",data['event_name'].count(),\"событий\")\n",
    "print(\"Неповторяющих значений из них\", len(np.unique(data['event_name'])))"
   ]
  },
  {
   "cell_type": "markdown",
   "metadata": {},
   "source": [
    "###  Сколько всего пользователей в логе?"
   ]
  },
  {
   "cell_type": "code",
   "execution_count": 5,
   "metadata": {},
   "outputs": [
    {
     "name": "stdout",
     "output_type": "stream",
     "text": [
      "В логе всего 7551 пользователей\n"
     ]
    }
   ],
   "source": [
    "print(\"В логе всего\",len(np.unique(data['device_id'])), \"пользователей\")"
   ]
  },
  {
   "cell_type": "markdown",
   "metadata": {},
   "source": [
    "### Сколько в среднем событий приходится на пользователя?"
   ]
  },
  {
   "cell_type": "code",
   "execution_count": 6,
   "metadata": {},
   "outputs": [
    {
     "name": "stdout",
     "output_type": "stream",
     "text": [
      "В среднем на одного пользователя приходится 32.28 событий\n"
     ]
    }
   ],
   "source": [
    "event_id = data.groupby(by='device_id').agg({'event_dt':'count'})\n",
    "\n",
    "print(\"В среднем на одного пользователя приходится\", round(event_id['event_dt'].mean(),2), \"событий\")\n"
   ]
  },
  {
   "cell_type": "markdown",
   "metadata": {},
   "source": [
    "### Данными за какой период вы располагаете? Найдите максимальную и минимальную дату. Постройте гистограмму по дате и времени. Можно ли быть уверенным, что у вас одинаково полные данные за весь период? Технически в логи новых дней по некоторым пользователям могут «доезжать» события из прошлого — это может «перекашивать данные». Определите, с какого момента данные полные и отбросьте более старые. Данными за какой период времени вы располагаете на самом деле?"
   ]
  },
  {
   "cell_type": "code",
   "execution_count": 7,
   "metadata": {},
   "outputs": [
    {
     "name": "stdout",
     "output_type": "stream",
     "text": [
      "Минимальная дата: 2019-07-25 04:43:36\n",
      "Максимальная дата: 2019-08-07 21:15:17\n"
     ]
    },
    {
     "data": {
      "text/plain": [
       "(array([26762., 19519., 25588., 28596., 15797., 22463., 32605., 18642.,\n",
       "        22071., 28844.]),\n",
       " array([18109.00518519, 18109.69322801, 18110.38127083, 18111.06931366,\n",
       "        18111.75735648, 18112.44539931, 18113.13344213, 18113.82148495,\n",
       "        18114.50952778, 18115.1975706 , 18115.88561343]),\n",
       " <BarContainer object of 10 artists>)"
      ]
     },
     "execution_count": 7,
     "metadata": {},
     "output_type": "execute_result"
    },
    {
     "data": {
      "image/png": "[encoded data removed]",
      "text/plain": [
       "<Figure size 1080x360 with 1 Axes>"
      ]
     },
     "metadata": {
      "needs_background": "light"
     },
     "output_type": "display_data"
    },
    {
     "data": {
      "image/png": "[encoded data removed]",
      "text/plain": [
       "<Figure size 1080x360 with 1 Axes>"
      ]
     },
     "metadata": {
      "needs_background": "light"
     },
     "output_type": "display_data"
    }
   ],
   "source": [
    "#Найдем минимальную и максимальную даты\n",
    "print(\"Минимальная дата:\", data['event_dt'].min())\n",
    "print(\"Максимальная дата:\", data['event_dt'].max())\n",
    "\n",
    "#Построем их распределение с помощью гистограммы\n",
    "plt.figure(figsize=(15,5))\n",
    "plt.title (\"Распределение количества событий по датам\")\n",
    "plt.xlabel(\"Дата\")\n",
    "plt.ylabel(\"Количество\")\n",
    "plt.hist(data['event_dt'])\n",
    "\n",
    "#Посмотрим период с 01.08.2019 года\n",
    "data_au2019 = data.query(\"event_dt >= '2019-08-01'\")\n",
    "\n",
    "plt.figure(figsize=(15,5))\n",
    "plt.title (\"Распределение количества событий по датам c 1 по 8 августа 2019 года\")\n",
    "plt.xlabel(\"Дата\")\n",
    "plt.ylabel(\"Количество\")\n",
    "plt.hist(data_au2019['event_dt'])"
   ]
  },
  {
   "cell_type": "markdown",
   "metadata": {},
   "source": [
    "Минимальная дата: 2019-07-25 04:43:36\n",
    "\n",
    "Максимальная дата: 2019-08-07 21:15:17\n",
    "\n",
    "Но при просмотре гистограммы распределения по датам можно увидеть, что до 1 августа 2019 года количество операций было очень мало. Поэтому по сути минимальная дата 1 августа 2019 года, с которого мы получим более точным и полный анализ. \n",
    "Получается, что мы располагаем данными в период с 1 августа по 7 августа 2019 года. "
   ]
  },
  {
   "cell_type": "markdown",
   "metadata": {},
   "source": [
    "###  Много ли событий и пользователей вы потеряли, отбросив старые данные?"
   ]
  },
  {
   "cell_type": "code",
   "execution_count": 8,
   "metadata": {},
   "outputs": [],
   "source": [
    "data_ju2019 = data.query(\"event_dt < '2019-08-01'\")"
   ]
  },
  {
   "cell_type": "markdown",
   "metadata": {},
   "source": [
    "Также посмотрим потерю по уникальным пользователям. "
   ]
  },
  {
   "cell_type": "code",
   "execution_count": 9,
   "metadata": {},
   "outputs": [
    {
     "data": {
      "text/plain": [
       "'count = 0 \\nfor i in data_ju2019:\\n    if i not in data_au2019[\\'device_id\\'].unique():\\n        count+=1\\n\\nprint(\"Количество пользователей, которые мы упускаем:\", count)'"
      ]
     },
     "execution_count": 9,
     "metadata": {},
     "output_type": "execute_result"
    }
   ],
   "source": [
    "'''count = 0 \n",
    "for i in data_ju2019:\n",
    "    if i not in data_au2019['device_id'].unique():\n",
    "        count+=1\n",
    "\n",
    "print(\"Количество пользователей, которые мы упускаем:\", count)'''       "
   ]
  },
  {
   "cell_type": "code",
   "execution_count": 10,
   "metadata": {},
   "outputs": [
    {
     "name": "stdout",
     "output_type": "stream",
     "text": [
      "Количество событий, которые мы упустили:  2826\n",
      "Количество пользователей, которые мы упустили:  17\n",
      "Доля потери событий: 1.2%\n",
      "Доля потеренных пользователей: 0.2%\n"
     ]
    }
   ],
   "source": [
    "#print('Событий было: ', data.shape[0])\n",
    "#print('Стало событий после того как отбросили данные: ', data_au2019.shape[0])\n",
    "print('Количество событий, которые мы упустили: ', data.shape[0]-data_au2019.shape[0])\n",
    "\n",
    "#print('Пользователей было: ',data['device_id'].nunique())\n",
    "#print('Стало пользователей после того как отбросили данные: ',data_au2019['device_id'].nunique())\n",
    "print('Количество пользователей, которые мы упустили: ',data['device_id'].nunique()-data_au2019['device_id'].nunique())\n",
    "\n",
    "print(f\"Доля потери событий: {round((data.shape[0]-data_au2019.shape[0])/data.shape[0]*100,1)}%\")\n",
    "print(f\"Доля потеренных пользователей: {round((data['device_id'].nunique()-data_au2019['device_id'].nunique())/data['device_id'].nunique()*100,1)}%\")"
   ]
  },
  {
   "cell_type": "markdown",
   "metadata": {},
   "source": [
    "При обрасывании периода до 1 августа 2019 года мы упускаем всего 1% событий и 0.2% пользователей, это очень маленький процент, поэтому можно смело отбрасывать данный период "
   ]
  },
  {
   "cell_type": "code",
   "execution_count": 11,
   "metadata": {},
   "outputs": [],
   "source": [
    "# код ревьюера\n",
    "new_logs = data.query('event_dt >= \"2019-08-01\"')"
   ]
  },
  {
   "cell_type": "code",
   "execution_count": 12,
   "metadata": {},
   "outputs": [
    {
     "name": "stdout",
     "output_type": "stream",
     "text": [
      "Событий было:  243713\n",
      "Пользователей было:  7551\n",
      "Событий после того как отбросили данные:  240887\n",
      "Пользователей после того как отбросили данные:  7534\n"
     ]
    }
   ],
   "source": [
    "# код ревьюера\n",
    "print('Событий было: ', data.shape[0])\n",
    "print('Пользователей было: ',data['device_id'].nunique())\n",
    "print('Событий после того как отбросили данные: ', new_logs.shape[0])\n",
    "print('Пользователей после того как отбросили данные: ',new_logs['device_id'].nunique())\n"
   ]
  },
  {
   "cell_type": "markdown",
   "metadata": {},
   "source": [
    "### Проверим, есть ли пользователи из всех трёх экспериментальных групп."
   ]
  },
  {
   "cell_type": "code",
   "execution_count": 13,
   "metadata": {},
   "outputs": [
    {
     "name": "stdout",
     "output_type": "stream",
     "text": [
      "Эксперементальные группы:\n",
      "               experiment_id\n",
      "experiment_id               \n",
      "246                      879\n",
      "247                      928\n",
      "248                     1019\n"
     ]
    }
   ],
   "source": [
    "#Сгруппируем данные по номеру эксперементальной группы, чтобы узнать, какие из номер встречаются\n",
    "\n",
    "print(\"Эксперементальные группы:\")\n",
    "print(data_ju2019.groupby(by='experiment_id').agg({'experiment_id':'count'}))"
   ]
  },
  {
   "cell_type": "markdown",
   "metadata": {},
   "source": [
    "При изучении данных мы обнаружили, что в наборе данных события начинают фиксироваться с 25 июля 2019 года по 7 августа 2019 года. Также нам удалось выяснить, что не в весь период события происходили равномерно: в период с 25 июля по 1 августа они имеют очень маленькое количество. Так для дальнейшего анализа мы исключим данные до 1 августа 2019 году. Также проанализировав, полученный набор, которые мы решили исключить, мы узнали, что в дальнейший анализ не войдет 2826 событий, которые принадлежат всем трем экспериментальным группам. "
   ]
  },
  {
   "cell_type": "markdown",
   "metadata": {},
   "source": [
    "## Изучим воронку событий\n",
    "\n",
    "### Посмотрим, какие события есть в логах, как часто они встречаются."
   ]
  },
  {
   "cell_type": "code",
   "execution_count": 14,
   "metadata": {},
   "outputs": [
    {
     "name": "stdout",
     "output_type": "stream",
     "text": [
      "Виды событий в логах и их частота:\n",
      "                          count\n",
      "event_name                     \n",
      "MainScreenAppear         117328\n",
      "OffersScreenAppear        46333\n",
      "CartScreenAppear          42303\n",
      "PaymentScreenSuccessful   33918\n",
      "Tutorial                   1005\n"
     ]
    }
   ],
   "source": [
    "print(\"Виды событий в логах и их частота:\")\n",
    "\n",
    "#Сгруппируем набор по сназваниям событий и посчитаем количество их появлений\n",
    "au2019_group = data_au2019.groupby(by = 'event_name').agg({'event_name':'count'})\n",
    "au2019_group.columns=['count']\n",
    "\n",
    "print (au2019_group.sort_values(by = 'count',ascending=False))"
   ]
  },
  {
   "cell_type": "markdown",
   "metadata": {},
   "source": [
    "Частота появления самого популярного этапа  равно 117 328, которым является MainScreenAppear\n",
    "\n",
    "Самого непопулярного Tutorial всего 1005 "
   ]
  },
  {
   "cell_type": "markdown",
   "metadata": {},
   "source": [
    "### Посчитайте, сколько пользователей совершали каждое из этих событий. Отсортируйте события по числу пользователей. Посчитайте долю пользователей, которые хоть раз совершали событие."
   ]
  },
  {
   "cell_type": "code",
   "execution_count": 15,
   "metadata": {},
   "outputs": [
    {
     "name": "stdout",
     "output_type": "stream",
     "text": [
      "                         count  procent\n",
      "event_name                             \n",
      "MainScreenAppear          7419    98.47\n",
      "OffersScreenAppear        4593    60.96\n",
      "CartScreenAppear          3734    49.56\n",
      "PaymentScreenSuccessful   3539    46.97\n",
      "Tutorial                   840    11.15\n"
     ]
    }
   ],
   "source": [
    "#Посчитаем уникальное количество пользователей. \n",
    "au2019_group = data_au2019.groupby(by = 'event_name').agg(\n",
    "    {'device_id':'nunique'})\n",
    "au2019_group.columns = ['count']\n",
    "\n",
    "#Добавим новый столбец с вычислением процента от общего числа пользователей. \n",
    "au2019_group['procent'] = round((au2019_group['count']/len(data_au2019['device_id'].unique())) * 100,2)\n",
    "print (au2019_group.sort_values(by = 'count',ascending=False))\n"
   ]
  },
  {
   "cell_type": "markdown",
   "metadata": {},
   "source": [
    "Для более наглядного представление построим круговую гистограмму по процентам"
   ]
  },
  {
   "cell_type": "code",
   "execution_count": 16,
   "metadata": {},
   "outputs": [
    {
     "data": {
      "text/plain": [
       "<matplotlib.legend.Legend at 0x7fddc1ea0be0>"
      ]
     },
     "execution_count": 16,
     "metadata": {},
     "output_type": "execute_result"
    },
    {
     "data": {
      "image/png": "[encoded data removed]",
      "text/plain": [
       "<Figure size 432x288 with 1 Axes>"
      ]
     },
     "metadata": {},
     "output_type": "display_data"
    }
   ],
   "source": [
    "plt.title(\"Распеределение доли пользователей , которые совершали события:\")\n",
    "plt.pie(au2019_group['procent'],labels = np.unique(data['event_name']), autopct='%1.2f%%')\n",
    "plt.legend(loc='upper left', bbox_to_anchor=(1.0, 1.0))"
   ]
  },
  {
   "cell_type": "markdown",
   "metadata": {},
   "source": [
    "Теперь на круговой диаграмме наглядно видно, что самым популярным этапом является MainScreenAppear, который составляет 36,86% от общего количества. Самым непопулярный - Tutorial, который имеет 4,17%"
   ]
  },
  {
   "cell_type": "markdown",
   "metadata": {},
   "source": [
    "### Предположем, в каком порядке происходят события. Все ли они выстраиваются в последовательную цепочку? Их не нужно учитывать при расчёте воронки."
   ]
  },
  {
   "cell_type": "markdown",
   "metadata": {},
   "source": []
  },
  {
   "cell_type": "markdown",
   "metadata": {},
   "source": [
    "### По воронке событий посчитаем, какая доля пользователей проходит на следующий шаг воронки (от числа пользователей на предыдущем). То есть для последовательности событий A → B → C посчитаем отношение числа пользователей с событием B к количеству пользователей с событием A, а также отношение числа пользователей с событием C к количеству пользователей с событием B."
   ]
  },
  {
   "cell_type": "code",
   "execution_count": 17,
   "metadata": {},
   "outputs": [
    {
     "data": {
      "text/html": [
       "<div>\n",
       "<style scoped>\n",
       "    .dataframe tbody tr th:only-of-type {\n",
       "        vertical-align: middle;\n",
       "    }\n",
       "\n",
       "    .dataframe tbody tr th {\n",
       "        vertical-align: top;\n",
       "    }\n",
       "\n",
       "    .dataframe thead th {\n",
       "        text-align: right;\n",
       "    }\n",
       "</style>\n",
       "<table border=\"1\" class=\"dataframe\">\n",
       "  <thead>\n",
       "    <tr style=\"text-align: right;\">\n",
       "      <th></th>\n",
       "      <th>device_id</th>\n",
       "      <th>conversion</th>\n",
       "    </tr>\n",
       "    <tr>\n",
       "      <th>event_name</th>\n",
       "      <th></th>\n",
       "      <th></th>\n",
       "    </tr>\n",
       "  </thead>\n",
       "  <tbody>\n",
       "    <tr>\n",
       "      <th>MainScreenAppear</th>\n",
       "      <td>7419</td>\n",
       "      <td>199</td>\n",
       "    </tr>\n",
       "    <tr>\n",
       "      <th>CartScreenAppear</th>\n",
       "      <td>3734</td>\n",
       "      <td>100</td>\n",
       "    </tr>\n",
       "    <tr>\n",
       "      <th>PaymentScreenSuccessful</th>\n",
       "      <td>3539</td>\n",
       "      <td>77</td>\n",
       "    </tr>\n",
       "    <tr>\n",
       "      <th>OffersScreenAppear</th>\n",
       "      <td>4593</td>\n",
       "      <td>62</td>\n",
       "    </tr>\n",
       "    <tr>\n",
       "      <th>Tutorial</th>\n",
       "      <td>840</td>\n",
       "      <td>24</td>\n",
       "    </tr>\n",
       "  </tbody>\n",
       "</table>\n",
       "</div>"
      ],
      "text/plain": [
       "                         device_id  conversion\n",
       "event_name                                    \n",
       "MainScreenAppear              7419         199\n",
       "CartScreenAppear              3734         100\n",
       "PaymentScreenSuccessful       3539          77\n",
       "OffersScreenAppear            4593          62\n",
       "Tutorial                       840          24"
      ]
     },
     "execution_count": 17,
     "metadata": {},
     "output_type": "execute_result"
    }
   ],
   "source": [
    "au2019_voronka = data_au2019.pivot_table(index = 'event_name', values='device_id',aggfunc='nunique')\n",
    "au2019_voronka.columns=['device_id']\n",
    "au2019_voronka['conversion']=0\n",
    "for i in range(0, len(au2019_voronka['device_id'])):\n",
    "    if i == 0:\n",
    "        au2019_voronka['conversion']=100\n",
    "    else:\n",
    "        au2019_voronka['conversion'][i] = round((au2019_voronka['device_id'][i]/au2019_voronka['device_id'][i-1]),2)*100\n",
    "\n",
    "au2019_voronka.sort_values(by='conversion', ascending=False)"
   ]
  },
  {
   "cell_type": "markdown",
   "metadata": {},
   "source": [
    "На воронке продаж мы видим, что самая большая конверсия у этапа перехода на главный этап. Самым не популярным является руководство в использовании. Это вполне логично, так как маленькое количество людей пользуются интрукцией и спешат самостоятельно попробовать приложение. "
   ]
  },
  {
   "cell_type": "markdown",
   "metadata": {},
   "source": [
    "### На каком шаге теряете больше всего пользователей?"
   ]
  },
  {
   "cell_type": "markdown",
   "metadata": {},
   "source": [
    "Мы видем, что на этапе Tutorial отбрасываются больше всего пользователей."
   ]
  },
  {
   "cell_type": "markdown",
   "metadata": {},
   "source": [
    "### Какая доля пользователей доходит от первого события до оплаты?"
   ]
  },
  {
   "cell_type": "code",
   "execution_count": 18,
   "metadata": {},
   "outputs": [
    {
     "name": "stdout",
     "output_type": "stream",
     "text": [
      "Доля пользователей, которые доходят до оплаты 95.0 %\n"
     ]
    }
   ],
   "source": [
    "print('Доля пользователей, которые доходят до оплаты', \\\n",
    "      round(au2019_group['count'].iloc[3]/au2019_group['count'].iloc[0], 2)*100, \"%\")"
   ]
  },
  {
   "cell_type": "markdown",
   "metadata": {},
   "source": [
    "## Изучение результатов эксперимента\n",
    "\n",
    "### Изучим результаты эксперимента"
   ]
  },
  {
   "cell_type": "code",
   "execution_count": 19,
   "metadata": {},
   "outputs": [
    {
     "data": {
      "text/html": [
       "<div>\n",
       "<style scoped>\n",
       "    .dataframe tbody tr th:only-of-type {\n",
       "        vertical-align: middle;\n",
       "    }\n",
       "\n",
       "    .dataframe tbody tr th {\n",
       "        vertical-align: top;\n",
       "    }\n",
       "\n",
       "    .dataframe thead th {\n",
       "        text-align: right;\n",
       "    }\n",
       "</style>\n",
       "<table border=\"1\" class=\"dataframe\">\n",
       "  <thead>\n",
       "    <tr style=\"text-align: right;\">\n",
       "      <th></th>\n",
       "      <th>CartScreenAppear</th>\n",
       "      <th>MainScreenAppear</th>\n",
       "      <th>OffersScreenAppear</th>\n",
       "      <th>PaymentScreenSuccessful</th>\n",
       "      <th>Tutorial</th>\n",
       "      <th>device_id</th>\n",
       "    </tr>\n",
       "    <tr>\n",
       "      <th>experiment_id</th>\n",
       "      <th></th>\n",
       "      <th></th>\n",
       "      <th></th>\n",
       "      <th></th>\n",
       "      <th></th>\n",
       "      <th></th>\n",
       "    </tr>\n",
       "  </thead>\n",
       "  <tbody>\n",
       "    <tr>\n",
       "      <th>246</th>\n",
       "      <td>1266</td>\n",
       "      <td>2450</td>\n",
       "      <td>1542</td>\n",
       "      <td>1200</td>\n",
       "      <td>278</td>\n",
       "      <td>2484</td>\n",
       "    </tr>\n",
       "    <tr>\n",
       "      <th>247</th>\n",
       "      <td>1238</td>\n",
       "      <td>2476</td>\n",
       "      <td>1520</td>\n",
       "      <td>1158</td>\n",
       "      <td>283</td>\n",
       "      <td>2513</td>\n",
       "    </tr>\n",
       "    <tr>\n",
       "      <th>248</th>\n",
       "      <td>1230</td>\n",
       "      <td>2493</td>\n",
       "      <td>1531</td>\n",
       "      <td>1181</td>\n",
       "      <td>279</td>\n",
       "      <td>2537</td>\n",
       "    </tr>\n",
       "  </tbody>\n",
       "</table>\n",
       "</div>"
      ],
      "text/plain": [
       "               CartScreenAppear  MainScreenAppear  OffersScreenAppear  \\\n",
       "experiment_id                                                           \n",
       "246                        1266              2450                1542   \n",
       "247                        1238              2476                1520   \n",
       "248                        1230              2493                1531   \n",
       "\n",
       "               PaymentScreenSuccessful  Tutorial  device_id  \n",
       "experiment_id                                                \n",
       "246                               1200       278       2484  \n",
       "247                               1158       283       2513  \n",
       "248                               1181       279       2537  "
      ]
     },
     "execution_count": 19,
     "metadata": {},
     "output_type": "execute_result"
    }
   ],
   "source": [
    "exp_group_one = data_au2019.pivot_table(index = 'experiment_id', values='device_id',aggfunc='nunique')\n",
    "\n",
    "exp_group = data_au2019.pivot_table(index='experiment_id',columns = 'event_name', values='device_id',aggfunc='nunique')\n",
    "\n",
    "exp_group = exp_group.merge(exp_group_one, left_on='experiment_id', right_on='experiment_id')\n",
    "\n",
    "\n",
    "exp_group"
   ]
  },
  {
   "cell_type": "markdown",
   "metadata": {},
   "source": [
    "Тут мы видим, что из исследования можно исключить этап Tutorial, так как до него доходит очень маленькое количество человек и к тому же они почти равны для разных эксперементальных групп. "
   ]
  },
  {
   "cell_type": "code",
   "execution_count": 20,
   "metadata": {},
   "outputs": [
    {
     "data": {
      "text/html": [
       "<div>\n",
       "<style scoped>\n",
       "    .dataframe tbody tr th:only-of-type {\n",
       "        vertical-align: middle;\n",
       "    }\n",
       "\n",
       "    .dataframe tbody tr th {\n",
       "        vertical-align: top;\n",
       "    }\n",
       "\n",
       "    .dataframe thead th {\n",
       "        text-align: right;\n",
       "    }\n",
       "</style>\n",
       "<table border=\"1\" class=\"dataframe\">\n",
       "  <thead>\n",
       "    <tr style=\"text-align: right;\">\n",
       "      <th></th>\n",
       "      <th>CartScreenAppear</th>\n",
       "      <th>MainScreenAppear</th>\n",
       "      <th>OffersScreenAppear</th>\n",
       "      <th>PaymentScreenSuccessful</th>\n",
       "      <th>device_id</th>\n",
       "    </tr>\n",
       "    <tr>\n",
       "      <th>experiment_id</th>\n",
       "      <th></th>\n",
       "      <th></th>\n",
       "      <th></th>\n",
       "      <th></th>\n",
       "      <th></th>\n",
       "    </tr>\n",
       "  </thead>\n",
       "  <tbody>\n",
       "    <tr>\n",
       "      <th>246</th>\n",
       "      <td>1266</td>\n",
       "      <td>2450</td>\n",
       "      <td>1542</td>\n",
       "      <td>1200</td>\n",
       "      <td>2484</td>\n",
       "    </tr>\n",
       "    <tr>\n",
       "      <th>247</th>\n",
       "      <td>1238</td>\n",
       "      <td>2476</td>\n",
       "      <td>1520</td>\n",
       "      <td>1158</td>\n",
       "      <td>2513</td>\n",
       "    </tr>\n",
       "    <tr>\n",
       "      <th>248</th>\n",
       "      <td>1230</td>\n",
       "      <td>2493</td>\n",
       "      <td>1531</td>\n",
       "      <td>1181</td>\n",
       "      <td>2537</td>\n",
       "    </tr>\n",
       "  </tbody>\n",
       "</table>\n",
       "</div>"
      ],
      "text/plain": [
       "               CartScreenAppear  MainScreenAppear  OffersScreenAppear  \\\n",
       "experiment_id                                                           \n",
       "246                        1266              2450                1542   \n",
       "247                        1238              2476                1520   \n",
       "248                        1230              2493                1531   \n",
       "\n",
       "               PaymentScreenSuccessful  device_id  \n",
       "experiment_id                                      \n",
       "246                               1200       2484  \n",
       "247                               1158       2513  \n",
       "248                               1181       2537  "
      ]
     },
     "execution_count": 20,
     "metadata": {},
     "output_type": "execute_result"
    }
   ],
   "source": [
    "del exp_group['Tutorial']\n",
    "\n",
    "exp_group"
   ]
  },
  {
   "cell_type": "code",
   "execution_count": 33,
   "metadata": {
    "scrolled": true
   },
   "outputs": [
    {
     "data": {
      "application/vnd.plotly.v1+json": {
       "config": {
        "plotlyServerURL": "https://plot.ly"
       },
       "data": [
        {
         "name": "246",
         "textinfo": "value+percent initial",
         "type": "funnel",
         "x": [
          2450,
          1542,
          1266,
          1200
         ],
         "y": [
          "MainScreenAppear",
          "OffersScreenAppear",
          "CartScreenAppear",
          "PaymentScreenSuccessful"
         ]
        },
        {
         "name": "247",
         "orientation": "h",
         "textinfo": "value+percent previous",
         "textposition": "inside",
         "type": "funnel",
         "x": [
          2476,
          1520,
          1238,
          1158
         ],
         "y": [
          "MainScreenAppear",
          "OffersScreenAppear",
          "CartScreenAppear",
          "PaymentScreenSuccessful"
         ]
        },
        {
         "name": "248",
         "orientation": "h",
         "textinfo": "value+percent total",
         "textposition": "outside",
         "type": "funnel",
         "x": [
          2493,
          1531,
          1230,
          1181
         ],
         "y": [
          "MainScreenAppear",
          "OffersScreenAppear",
          "CartScreenAppear",
          "PaymentScreenSuccessful"
         ]
        }
       ],
       "layout": {
        "template": {
         "data": {
          "bar": [
           {
            "error_x": {
             "color": "#2a3f5f"
            },
            "error_y": {
             "color": "#2a3f5f"
            },
            "marker": {
             "line": {
              "color": "#E5ECF6",
              "width": 0.5
             },
             "pattern": {
              "fillmode": "overlay",
              "size": 10,
              "solidity": 0.2
             }
            },
            "type": "bar"
           }
          ],
          "barpolar": [
           {
            "marker": {
             "line": {
              "color": "#E5ECF6",
              "width": 0.5
             },
             "pattern": {
              "fillmode": "overlay",
              "size": 10,
              "solidity": 0.2
             }
            },
            "type": "barpolar"
           }
          ],
          "carpet": [
           {
            "aaxis": {
             "endlinecolor": "#2a3f5f",
             "gridcolor": "white",
             "linecolor": "white",
             "minorgridcolor": "white",
             "startlinecolor": "#2a3f5f"
            },
            "baxis": {
             "endlinecolor": "#2a3f5f",
             "gridcolor": "white",
             "linecolor": "white",
             "minorgridcolor": "white",
             "startlinecolor": "#2a3f5f"
            },
            "type": "carpet"
           }
          ],
          "choropleth": [
           {
            "colorbar": {
             "outlinewidth": 0,
             "ticks": ""
            },
            "type": "choropleth"
           }
          ],
          "contour": [
           {
            "colorbar": {
             "outlinewidth": 0,
             "ticks": ""
            },
            "colorscale": [
             [
              0,
              "#0d0887"
             ],
             [
              0.1111111111111111,
              "#46039f"
             ],
             [
              0.2222222222222222,
              "#7201a8"
             ],
             [
              0.3333333333333333,
              "#9c179e"
             ],
             [
              0.4444444444444444,
              "#bd3786"
             ],
             [
              0.5555555555555556,
              "#d8576b"
             ],
             [
              0.6666666666666666,
              "#ed7953"
             ],
             [
              0.7777777777777778,
              "#fb9f3a"
             ],
             [
              0.8888888888888888,
              "#fdca26"
             ],
             [
              1,
              "#f0f921"
             ]
            ],
            "type": "contour"
           }
          ],
          "contourcarpet": [
           {
            "colorbar": {
             "outlinewidth": 0,
             "ticks": ""
            },
            "type": "contourcarpet"
           }
          ],
          "heatmap": [
           {
            "colorbar": {
             "outlinewidth": 0,
             "ticks": ""
            },
            "colorscale": [
             [
              0,
              "#0d0887"
             ],
             [
              0.1111111111111111,
              "#46039f"
             ],
             [
              0.2222222222222222,
              "#7201a8"
             ],
             [
              0.3333333333333333,
              "#9c179e"
             ],
             [
              0.4444444444444444,
              "#bd3786"
             ],
             [
              0.5555555555555556,
              "#d8576b"
             ],
             [
              0.6666666666666666,
              "#ed7953"
             ],
             [
              0.7777777777777778,
              "#fb9f3a"
             ],
             [
              0.8888888888888888,
              "#fdca26"
             ],
             [
              1,
              "#f0f921"
             ]
            ],
            "type": "heatmap"
           }
          ],
          "heatmapgl": [
           {
            "colorbar": {
             "outlinewidth": 0,
             "ticks": ""
            },
            "colorscale": [
             [
              0,
              "#0d0887"
             ],
             [
              0.1111111111111111,
              "#46039f"
             ],
             [
              0.2222222222222222,
              "#7201a8"
             ],
             [
              0.3333333333333333,
              "#9c179e"
             ],
             [
              0.4444444444444444,
              "#bd3786"
             ],
             [
              0.5555555555555556,
              "#d8576b"
             ],
             [
              0.6666666666666666,
              "#ed7953"
             ],
             [
              0.7777777777777778,
              "#fb9f3a"
             ],
             [
              0.8888888888888888,
              "#fdca26"
             ],
             [
              1,
              "#f0f921"
             ]
            ],
            "type": "heatmapgl"
           }
          ],
          "histogram": [
           {
            "marker": {
             "pattern": {
              "fillmode": "overlay",
              "size": 10,
              "solidity": 0.2
             }
            },
            "type": "histogram"
           }
          ],
          "histogram2d": [
           {
            "colorbar": {
             "outlinewidth": 0,
             "ticks": ""
            },
            "colorscale": [
             [
              0,
              "#0d0887"
             ],
             [
              0.1111111111111111,
              "#46039f"
             ],
             [
              0.2222222222222222,
              "#7201a8"
             ],
             [
              0.3333333333333333,
              "#9c179e"
             ],
             [
              0.4444444444444444,
              "#bd3786"
             ],
             [
              0.5555555555555556,
              "#d8576b"
             ],
             [
              0.6666666666666666,
              "#ed7953"
             ],
             [
              0.7777777777777778,
              "#fb9f3a"
             ],
             [
              0.8888888888888888,
              "#fdca26"
             ],
             [
              1,
              "#f0f921"
             ]
            ],
            "type": "histogram2d"
           }
          ],
          "histogram2dcontour": [
           {
            "colorbar": {
             "outlinewidth": 0,
             "ticks": ""
            },
            "colorscale": [
             [
              0,
              "#0d0887"
             ],
             [
              0.1111111111111111,
              "#46039f"
             ],
             [
              0.2222222222222222,
              "#7201a8"
             ],
             [
              0.3333333333333333,
              "#9c179e"
             ],
             [
              0.4444444444444444,
              "#bd3786"
             ],
             [
              0.5555555555555556,
              "#d8576b"
             ],
             [
              0.6666666666666666,
              "#ed7953"
             ],
             [
              0.7777777777777778,
              "#fb9f3a"
             ],
             [
              0.8888888888888888,
              "#fdca26"
             ],
             [
              1,
              "#f0f921"
             ]
            ],
            "type": "histogram2dcontour"
           }
          ],
          "mesh3d": [
           {
            "colorbar": {
             "outlinewidth": 0,
             "ticks": ""
            },
            "type": "mesh3d"
           }
          ],
          "parcoords": [
           {
            "line": {
             "colorbar": {
              "outlinewidth": 0,
              "ticks": ""
             }
            },
            "type": "parcoords"
           }
          ],
          "pie": [
           {
            "automargin": true,
            "type": "pie"
           }
          ],
          "scatter": [
           {
            "marker": {
             "colorbar": {
              "outlinewidth": 0,
              "ticks": ""
             }
            },
            "type": "scatter"
           }
          ],
          "scatter3d": [
           {
            "line": {
             "colorbar": {
              "outlinewidth": 0,
              "ticks": ""
             }
            },
            "marker": {
             "colorbar": {
              "outlinewidth": 0,
              "ticks": ""
             }
            },
            "type": "scatter3d"
           }
          ],
          "scattercarpet": [
           {
            "marker": {
             "colorbar": {
              "outlinewidth": 0,
              "ticks": ""
             }
            },
            "type": "scattercarpet"
           }
          ],
          "scattergeo": [
           {
            "marker": {
             "colorbar": {
              "outlinewidth": 0,
              "ticks": ""
             }
            },
            "type": "scattergeo"
           }
          ],
          "scattergl": [
           {
            "marker": {
             "colorbar": {
              "outlinewidth": 0,
              "ticks": ""
             }
            },
            "type": "scattergl"
           }
          ],
          "scattermapbox": [
           {
            "marker": {
             "colorbar": {
              "outlinewidth": 0,
              "ticks": ""
             }
            },
            "type": "scattermapbox"
           }
          ],
          "scatterpolar": [
           {
            "marker": {
             "colorbar": {
              "outlinewidth": 0,
              "ticks": ""
             }
            },
            "type": "scatterpolar"
           }
          ],
          "scatterpolargl": [
           {
            "marker": {
             "colorbar": {
              "outlinewidth": 0,
              "ticks": ""
             }
            },
            "type": "scatterpolargl"
           }
          ],
          "scatterternary": [
           {
            "marker": {
             "colorbar": {
              "outlinewidth": 0,
              "ticks": ""
             }
            },
            "type": "scatterternary"
           }
          ],
          "surface": [
           {
            "colorbar": {
             "outlinewidth": 0,
             "ticks": ""
            },
            "colorscale": [
             [
              0,
              "#0d0887"
             ],
             [
              0.1111111111111111,
              "#46039f"
             ],
             [
              0.2222222222222222,
              "#7201a8"
             ],
             [
              0.3333333333333333,
              "#9c179e"
             ],
             [
              0.4444444444444444,
              "#bd3786"
             ],
             [
              0.5555555555555556,
              "#d8576b"
             ],
             [
              0.6666666666666666,
              "#ed7953"
             ],
             [
              0.7777777777777778,
              "#fb9f3a"
             ],
             [
              0.8888888888888888,
              "#fdca26"
             ],
             [
              1,
              "#f0f921"
             ]
            ],
            "type": "surface"
           }
          ],
          "table": [
           {
            "cells": {
             "fill": {
              "color": "#EBF0F8"
             },
             "line": {
              "color": "white"
             }
            },
            "header": {
             "fill": {
              "color": "#C8D4E3"
             },
             "line": {
              "color": "white"
             }
            },
            "type": "table"
           }
          ]
         },
         "layout": {
          "annotationdefaults": {
           "arrowcolor": "#2a3f5f",
           "arrowhead": 0,
           "arrowwidth": 1
          },
          "autotypenumbers": "strict",
          "coloraxis": {
           "colorbar": {
            "outlinewidth": 0,
            "ticks": ""
           }
          },
          "colorscale": {
           "diverging": [
            [
             0,
             "#8e0152"
            ],
            [
             0.1,
             "#c51b7d"
            ],
            [
             0.2,
             "#de77ae"
            ],
            [
             0.3,
             "#f1b6da"
            ],
            [
             0.4,
             "#fde0ef"
            ],
            [
             0.5,
             "#f7f7f7"
            ],
            [
             0.6,
             "#e6f5d0"
            ],
            [
             0.7,
             "#b8e186"
            ],
            [
             0.8,
             "#7fbc41"
            ],
            [
             0.9,
             "#4d9221"
            ],
            [
             1,
             "#276419"
            ]
           ],
           "sequential": [
            [
             0,
             "#0d0887"
            ],
            [
             0.1111111111111111,
             "#46039f"
            ],
            [
             0.2222222222222222,
             "#7201a8"
            ],
            [
             0.3333333333333333,
             "#9c179e"
            ],
            [
             0.4444444444444444,
             "#bd3786"
            ],
            [
             0.5555555555555556,
             "#d8576b"
            ],
            [
             0.6666666666666666,
             "#ed7953"
            ],
            [
             0.7777777777777778,
             "#fb9f3a"
            ],
            [
             0.8888888888888888,
             "#fdca26"
            ],
            [
             1,
             "#f0f921"
            ]
           ],
           "sequentialminus": [
            [
             0,
             "#0d0887"
            ],
            [
             0.1111111111111111,
             "#46039f"
            ],
            [
             0.2222222222222222,
             "#7201a8"
            ],
            [
             0.3333333333333333,
             "#9c179e"
            ],
            [
             0.4444444444444444,
             "#bd3786"
            ],
            [
             0.5555555555555556,
             "#d8576b"
            ],
            [
             0.6666666666666666,
             "#ed7953"
            ],
            [
             0.7777777777777778,
             "#fb9f3a"
            ],
            [
             0.8888888888888888,
             "#fdca26"
            ],
            [
             1,
             "#f0f921"
            ]
           ]
          },
          "colorway": [
           "#636efa",
           "#EF553B",
           "#00cc96",
           "#ab63fa",
           "#FFA15A",
           "#19d3f3",
           "#FF6692",
           "#B6E880",
           "#FF97FF",
           "#FECB52"
          ],
          "font": {
           "color": "#2a3f5f"
          },
          "geo": {
           "bgcolor": "white",
           "lakecolor": "white",
           "landcolor": "#E5ECF6",
           "showlakes": true,
           "showland": true,
           "subunitcolor": "white"
          },
          "hoverlabel": {
           "align": "left"
          },
          "hovermode": "closest",
          "mapbox": {
           "style": "light"
          },
          "paper_bgcolor": "white",
          "plot_bgcolor": "#E5ECF6",
          "polar": {
           "angularaxis": {
            "gridcolor": "white",
            "linecolor": "white",
            "ticks": ""
           },
           "bgcolor": "#E5ECF6",
           "radialaxis": {
            "gridcolor": "white",
            "linecolor": "white",
            "ticks": ""
           }
          },
          "scene": {
           "xaxis": {
            "backgroundcolor": "#E5ECF6",
            "gridcolor": "white",
            "gridwidth": 2,
            "linecolor": "white",
            "showbackground": true,
            "ticks": "",
            "zerolinecolor": "white"
           },
           "yaxis": {
            "backgroundcolor": "#E5ECF6",
            "gridcolor": "white",
            "gridwidth": 2,
            "linecolor": "white",
            "showbackground": true,
            "ticks": "",
            "zerolinecolor": "white"
           },
           "zaxis": {
            "backgroundcolor": "#E5ECF6",
            "gridcolor": "white",
            "gridwidth": 2,
            "linecolor": "white",
            "showbackground": true,
            "ticks": "",
            "zerolinecolor": "white"
           }
          },
          "shapedefaults": {
           "line": {
            "color": "#2a3f5f"
           }
          },
          "ternary": {
           "aaxis": {
            "gridcolor": "white",
            "linecolor": "white",
            "ticks": ""
           },
           "baxis": {
            "gridcolor": "white",
            "linecolor": "white",
            "ticks": ""
           },
           "bgcolor": "#E5ECF6",
           "caxis": {
            "gridcolor": "white",
            "linecolor": "white",
            "ticks": ""
           }
          },
          "title": {
           "x": 0.05
          },
          "xaxis": {
           "automargin": true,
           "gridcolor": "white",
           "linecolor": "white",
           "ticks": "",
           "title": {
            "standoff": 15
           },
           "zerolinecolor": "white",
           "zerolinewidth": 2
          },
          "yaxis": {
           "automargin": true,
           "gridcolor": "white",
           "linecolor": "white",
           "ticks": "",
           "title": {
            "standoff": 15
           },
           "zerolinecolor": "white",
           "zerolinewidth": 2
          }
         }
        },
        "title": {
         "text": "Воронка"
        }
       }
      },
      "text/html": [
       "<div>                            <div id=\"5c6c7634-3057-4311-8392-2764e4e3982d\" class=\"plotly-graph-div\" style=\"height:525px; width:100%;\"></div>            <script type=\"text/javascript\">                require([\"plotly\"], function(Plotly) {                    window.PLOTLYENV=window.PLOTLYENV || {};                                    if (document.getElementById(\"5c6c7634-3057-4311-8392-2764e4e3982d\")) {                    Plotly.newPlot(                        \"5c6c7634-3057-4311-8392-2764e4e3982d\",                        [{\"name\":\"246\",\"textinfo\":\"value+percent initial\",\"x\":[2450,1542,1266,1200],\"y\":[\"MainScreenAppear\",\"OffersScreenAppear\",\"CartScreenAppear\",\"PaymentScreenSuccessful\"],\"type\":\"funnel\"},{\"name\":\"247\",\"orientation\":\"h\",\"textinfo\":\"value+percent previous\",\"textposition\":\"inside\",\"x\":[2476,1520,1238,1158],\"y\":[\"MainScreenAppear\",\"OffersScreenAppear\",\"CartScreenAppear\",\"PaymentScreenSuccessful\"],\"type\":\"funnel\"},{\"name\":\"248\",\"orientation\":\"h\",\"textinfo\":\"value+percent total\",\"textposition\":\"outside\",\"x\":[2493,1531,1230,1181],\"y\":[\"MainScreenAppear\",\"OffersScreenAppear\",\"CartScreenAppear\",\"PaymentScreenSuccessful\"],\"type\":\"funnel\"}],                        {\"template\":{\"data\":{\"bar\":[{\"error_x\":{\"color\":\"#2a3f5f\"},\"error_y\":{\"color\":\"#2a3f5f\"},\"marker\":{\"line\":{\"color\":\"#E5ECF6\",\"width\":0.5},\"pattern\":{\"fillmode\":\"overlay\",\"size\":10,\"solidity\":0.2}},\"type\":\"bar\"}],\"barpolar\":[{\"marker\":{\"line\":{\"color\":\"#E5ECF6\",\"width\":0.5},\"pattern\":{\"fillmode\":\"overlay\",\"size\":10,\"solidity\":0.2}},\"type\":\"barpolar\"}],\"carpet\":[{\"aaxis\":{\"endlinecolor\":\"#2a3f5f\",\"gridcolor\":\"white\",\"linecolor\":\"white\",\"minorgridcolor\":\"white\",\"startlinecolor\":\"#2a3f5f\"},\"baxis\":{\"endlinecolor\":\"#2a3f5f\",\"gridcolor\":\"white\",\"linecolor\":\"white\",\"minorgridcolor\":\"white\",\"startlinecolor\":\"#2a3f5f\"},\"type\":\"carpet\"}],\"choropleth\":[{\"colorbar\":{\"outlinewidth\":0,\"ticks\":\"\"},\"type\":\"choropleth\"}],\"contour\":[{\"colorbar\":{\"outlinewidth\":0,\"ticks\":\"\"},\"colorscale\":[[0.0,\"#0d0887\"],[0.1111111111111111,\"#46039f\"],[0.2222222222222222,\"#7201a8\"],[0.3333333333333333,\"#9c179e\"],[0.4444444444444444,\"#bd3786\"],[0.5555555555555556,\"#d8576b\"],[0.6666666666666666,\"#ed7953\"],[0.7777777777777778,\"#fb9f3a\"],[0.8888888888888888,\"#fdca26\"],[1.0,\"#f0f921\"]],\"type\":\"contour\"}],\"contourcarpet\":[{\"colorbar\":{\"outlinewidth\":0,\"ticks\":\"\"},\"type\":\"contourcarpet\"}],\"heatmap\":[{\"colorbar\":{\"outlinewidth\":0,\"ticks\":\"\"},\"colorscale\":[[0.0,\"#0d0887\"],[0.1111111111111111,\"#46039f\"],[0.2222222222222222,\"#7201a8\"],[0.3333333333333333,\"#9c179e\"],[0.4444444444444444,\"#bd3786\"],[0.5555555555555556,\"#d8576b\"],[0.6666666666666666,\"#ed7953\"],[0.7777777777777778,\"#fb9f3a\"],[0.8888888888888888,\"#fdca26\"],[1.0,\"#f0f921\"]],\"type\":\"heatmap\"}],\"heatmapgl\":[{\"colorbar\":{\"outlinewidth\":0,\"ticks\":\"\"},\"colorscale\":[[0.0,\"#0d0887\"],[0.1111111111111111,\"#46039f\"],[0.2222222222222222,\"#7201a8\"],[0.3333333333333333,\"#9c179e\"],[0.4444444444444444,\"#bd3786\"],[0.5555555555555556,\"#d8576b\"],[0.6666666666666666,\"#ed7953\"],[0.7777777777777778,\"#fb9f3a\"],[0.8888888888888888,\"#fdca26\"],[1.0,\"#f0f921\"]],\"type\":\"heatmapgl\"}],\"histogram\":[{\"marker\":{\"pattern\":{\"fillmode\":\"overlay\",\"size\":10,\"solidity\":0.2}},\"type\":\"histogram\"}],\"histogram2d\":[{\"colorbar\":{\"outlinewidth\":0,\"ticks\":\"\"},\"colorscale\":[[0.0,\"#0d0887\"],[0.1111111111111111,\"#46039f\"],[0.2222222222222222,\"#7201a8\"],[0.3333333333333333,\"#9c179e\"],[0.4444444444444444,\"#bd3786\"],[0.5555555555555556,\"#d8576b\"],[0.6666666666666666,\"#ed7953\"],[0.7777777777777778,\"#fb9f3a\"],[0.8888888888888888,\"#fdca26\"],[1.0,\"#f0f921\"]],\"type\":\"histogram2d\"}],\"histogram2dcontour\":[{\"colorbar\":{\"outlinewidth\":0,\"ticks\":\"\"},\"colorscale\":[[0.0,\"#0d0887\"],[0.1111111111111111,\"#46039f\"],[0.2222222222222222,\"#7201a8\"],[0.3333333333333333,\"#9c179e\"],[0.4444444444444444,\"#bd3786\"],[0.5555555555555556,\"#d8576b\"],[0.6666666666666666,\"#ed7953\"],[0.7777777777777778,\"#fb9f3a\"],[0.8888888888888888,\"#fdca26\"],[1.0,\"#f0f921\"]],\"type\":\"histogram2dcontour\"}],\"mesh3d\":[{\"colorbar\":{\"outlinewidth\":0,\"ticks\":\"\"},\"type\":\"mesh3d\"}],\"parcoords\":[{\"line\":{\"colorbar\":{\"outlinewidth\":0,\"ticks\":\"\"}},\"type\":\"parcoords\"}],\"pie\":[{\"automargin\":true,\"type\":\"pie\"}],\"scatter\":[{\"marker\":{\"colorbar\":{\"outlinewidth\":0,\"ticks\":\"\"}},\"type\":\"scatter\"}],\"scatter3d\":[{\"line\":{\"colorbar\":{\"outlinewidth\":0,\"ticks\":\"\"}},\"marker\":{\"colorbar\":{\"outlinewidth\":0,\"ticks\":\"\"}},\"type\":\"scatter3d\"}],\"scattercarpet\":[{\"marker\":{\"colorbar\":{\"outlinewidth\":0,\"ticks\":\"\"}},\"type\":\"scattercarpet\"}],\"scattergeo\":[{\"marker\":{\"colorbar\":{\"outlinewidth\":0,\"ticks\":\"\"}},\"type\":\"scattergeo\"}],\"scattergl\":[{\"marker\":{\"colorbar\":{\"outlinewidth\":0,\"ticks\":\"\"}},\"type\":\"scattergl\"}],\"scattermapbox\":[{\"marker\":{\"colorbar\":{\"outlinewidth\":0,\"ticks\":\"\"}},\"type\":\"scattermapbox\"}],\"scatterpolar\":[{\"marker\":{\"colorbar\":{\"outlinewidth\":0,\"ticks\":\"\"}},\"type\":\"scatterpolar\"}],\"scatterpolargl\":[{\"marker\":{\"colorbar\":{\"outlinewidth\":0,\"ticks\":\"\"}},\"type\":\"scatterpolargl\"}],\"scatterternary\":[{\"marker\":{\"colorbar\":{\"outlinewidth\":0,\"ticks\":\"\"}},\"type\":\"scatterternary\"}],\"surface\":[{\"colorbar\":{\"outlinewidth\":0,\"ticks\":\"\"},\"colorscale\":[[0.0,\"#0d0887\"],[0.1111111111111111,\"#46039f\"],[0.2222222222222222,\"#7201a8\"],[0.3333333333333333,\"#9c179e\"],[0.4444444444444444,\"#bd3786\"],[0.5555555555555556,\"#d8576b\"],[0.6666666666666666,\"#ed7953\"],[0.7777777777777778,\"#fb9f3a\"],[0.8888888888888888,\"#fdca26\"],[1.0,\"#f0f921\"]],\"type\":\"surface\"}],\"table\":[{\"cells\":{\"fill\":{\"color\":\"#EBF0F8\"},\"line\":{\"color\":\"white\"}},\"header\":{\"fill\":{\"color\":\"#C8D4E3\"},\"line\":{\"color\":\"white\"}},\"type\":\"table\"}]},\"layout\":{\"annotationdefaults\":{\"arrowcolor\":\"#2a3f5f\",\"arrowhead\":0,\"arrowwidth\":1},\"autotypenumbers\":\"strict\",\"coloraxis\":{\"colorbar\":{\"outlinewidth\":0,\"ticks\":\"\"}},\"colorscale\":{\"diverging\":[[0,\"#8e0152\"],[0.1,\"#c51b7d\"],[0.2,\"#de77ae\"],[0.3,\"#f1b6da\"],[0.4,\"#fde0ef\"],[0.5,\"#f7f7f7\"],[0.6,\"#e6f5d0\"],[0.7,\"#b8e186\"],[0.8,\"#7fbc41\"],[0.9,\"#4d9221\"],[1,\"#276419\"]],\"sequential\":[[0.0,\"#0d0887\"],[0.1111111111111111,\"#46039f\"],[0.2222222222222222,\"#7201a8\"],[0.3333333333333333,\"#9c179e\"],[0.4444444444444444,\"#bd3786\"],[0.5555555555555556,\"#d8576b\"],[0.6666666666666666,\"#ed7953\"],[0.7777777777777778,\"#fb9f3a\"],[0.8888888888888888,\"#fdca26\"],[1.0,\"#f0f921\"]],\"sequentialminus\":[[0.0,\"#0d0887\"],[0.1111111111111111,\"#46039f\"],[0.2222222222222222,\"#7201a8\"],[0.3333333333333333,\"#9c179e\"],[0.4444444444444444,\"#bd3786\"],[0.5555555555555556,\"#d8576b\"],[0.6666666666666666,\"#ed7953\"],[0.7777777777777778,\"#fb9f3a\"],[0.8888888888888888,\"#fdca26\"],[1.0,\"#f0f921\"]]},\"colorway\":[\"#636efa\",\"#EF553B\",\"#00cc96\",\"#ab63fa\",\"#FFA15A\",\"#19d3f3\",\"#FF6692\",\"#B6E880\",\"#FF97FF\",\"#FECB52\"],\"font\":{\"color\":\"#2a3f5f\"},\"geo\":{\"bgcolor\":\"white\",\"lakecolor\":\"white\",\"landcolor\":\"#E5ECF6\",\"showlakes\":true,\"showland\":true,\"subunitcolor\":\"white\"},\"hoverlabel\":{\"align\":\"left\"},\"hovermode\":\"closest\",\"mapbox\":{\"style\":\"light\"},\"paper_bgcolor\":\"white\",\"plot_bgcolor\":\"#E5ECF6\",\"polar\":{\"angularaxis\":{\"gridcolor\":\"white\",\"linecolor\":\"white\",\"ticks\":\"\"},\"bgcolor\":\"#E5ECF6\",\"radialaxis\":{\"gridcolor\":\"white\",\"linecolor\":\"white\",\"ticks\":\"\"}},\"scene\":{\"xaxis\":{\"backgroundcolor\":\"#E5ECF6\",\"gridcolor\":\"white\",\"gridwidth\":2,\"linecolor\":\"white\",\"showbackground\":true,\"ticks\":\"\",\"zerolinecolor\":\"white\"},\"yaxis\":{\"backgroundcolor\":\"#E5ECF6\",\"gridcolor\":\"white\",\"gridwidth\":2,\"linecolor\":\"white\",\"showbackground\":true,\"ticks\":\"\",\"zerolinecolor\":\"white\"},\"zaxis\":{\"backgroundcolor\":\"#E5ECF6\",\"gridcolor\":\"white\",\"gridwidth\":2,\"linecolor\":\"white\",\"showbackground\":true,\"ticks\":\"\",\"zerolinecolor\":\"white\"}},\"shapedefaults\":{\"line\":{\"color\":\"#2a3f5f\"}},\"ternary\":{\"aaxis\":{\"gridcolor\":\"white\",\"linecolor\":\"white\",\"ticks\":\"\"},\"baxis\":{\"gridcolor\":\"white\",\"linecolor\":\"white\",\"ticks\":\"\"},\"bgcolor\":\"#E5ECF6\",\"caxis\":{\"gridcolor\":\"white\",\"linecolor\":\"white\",\"ticks\":\"\"}},\"title\":{\"x\":0.05},\"xaxis\":{\"automargin\":true,\"gridcolor\":\"white\",\"linecolor\":\"white\",\"ticks\":\"\",\"title\":{\"standoff\":15},\"zerolinecolor\":\"white\",\"zerolinewidth\":2},\"yaxis\":{\"automargin\":true,\"gridcolor\":\"white\",\"linecolor\":\"white\",\"ticks\":\"\",\"title\":{\"standoff\":15},\"zerolinecolor\":\"white\",\"zerolinewidth\":2}}},\"title\":{\"text\":\"\\u0412\\u043e\\u0440\\u043e\\u043d\\u043a\\u0430\"}},                        {\"responsive\": true}                    ).then(function(){\n",
       "                            \n",
       "var gd = document.getElementById('5c6c7634-3057-4311-8392-2764e4e3982d');\n",
       "var x = new MutationObserver(function (mutations, observer) {{\n",
       "        var display = window.getComputedStyle(gd).display;\n",
       "        if (!display || display === 'none') {{\n",
       "            console.log([gd, 'removed!']);\n",
       "            Plotly.purge(gd);\n",
       "            observer.disconnect();\n",
       "        }}\n",
       "}});\n",
       "\n",
       "// Listen for the removal of the full notebook cells\n",
       "var notebookContainer = gd.closest('#notebook-container');\n",
       "if (notebookContainer) {{\n",
       "    x.observe(notebookContainer, {childList: true});\n",
       "}}\n",
       "\n",
       "// Listen for the clearing of the current output cell\n",
       "var outputEl = gd.closest('.output');\n",
       "if (outputEl) {{\n",
       "    x.observe(outputEl, {childList: true});\n",
       "}}\n",
       "\n",
       "                        })                };                });            </script>        </div>"
      ]
     },
     "metadata": {},
     "output_type": "display_data"
    }
   ],
   "source": [
    "from plotly import graph_objects as go\n",
    "\n",
    "fig = go.Figure()\n",
    "\n",
    "fig.add_trace(go.Funnel(\n",
    "    name = '246',\n",
    "    y = [\"MainScreenAppear\", \"OffersScreenAppear\", \"CartScreenAppear\", \"PaymentScreenSuccessful\"],\n",
    "    x = [exp_group.iloc[0]['MainScreenAppear'],exp_group.iloc[0]['OffersScreenAppear'],exp_group.iloc[0]['CartScreenAppear'],exp_group.iloc[0]['PaymentScreenSuccessful']],\n",
    "    textinfo = \"value+percent initial\"))\n",
    "\n",
    "fig.add_trace(go.Funnel(\n",
    "    name = '247',\n",
    "    orientation = \"h\",\n",
    "    y = [\"MainScreenAppear\", \"OffersScreenAppear\", \"CartScreenAppear\", \"PaymentScreenSuccessful\"],\n",
    "    x = [exp_group.iloc[1]['MainScreenAppear'],exp_group.iloc[1]['OffersScreenAppear'],exp_group.iloc[1]['CartScreenAppear'],exp_group.iloc[1]['PaymentScreenSuccessful']],\n",
    "    textposition = \"inside\",\n",
    "    textinfo = \"value+percent previous\"))\n",
    "\n",
    "fig.add_trace(go.Funnel(\n",
    "    name = '248',\n",
    "    orientation = \"h\",\n",
    "    y = [\"MainScreenAppear\", \"OffersScreenAppear\", \"CartScreenAppear\", \"PaymentScreenSuccessful\"],\n",
    "    x = [exp_group.iloc[2]['MainScreenAppear'],exp_group.iloc[2]['OffersScreenAppear'],exp_group.iloc[2]['CartScreenAppear'],exp_group.iloc[2]['PaymentScreenSuccessful']],\n",
    "    textposition = \"outside\",\n",
    "    textinfo = \"value+percent total\"))\n",
    "# Код ревьюера\n",
    "fig.update_layout(title='Воронка')"
   ]
  },
  {
   "cell_type": "markdown",
   "metadata": {},
   "source": [
    "Теперь мы четко видем, что первый шаг проходят, то есть появление первого экрана **MainScreenAppear**. \n",
    "\n",
    "Проверим не пересекаются ли участники разных групп между собой."
   ]
  },
  {
   "cell_type": "code",
   "execution_count": 22,
   "metadata": {},
   "outputs": [
    {
     "data": {
      "text/html": [
       "<div>\n",
       "<style scoped>\n",
       "    .dataframe tbody tr th:only-of-type {\n",
       "        vertical-align: middle;\n",
       "    }\n",
       "\n",
       "    .dataframe tbody tr th {\n",
       "        vertical-align: top;\n",
       "    }\n",
       "\n",
       "    .dataframe thead th {\n",
       "        text-align: right;\n",
       "    }\n",
       "</style>\n",
       "<table border=\"1\" class=\"dataframe\">\n",
       "  <thead>\n",
       "    <tr style=\"text-align: right;\">\n",
       "      <th></th>\n",
       "      <th>experiment_id</th>\n",
       "    </tr>\n",
       "    <tr>\n",
       "      <th>device_id</th>\n",
       "      <th></th>\n",
       "    </tr>\n",
       "  </thead>\n",
       "  <tbody>\n",
       "  </tbody>\n",
       "</table>\n",
       "</div>"
      ],
      "text/plain": [
       "Empty DataFrame\n",
       "Columns: [experiment_id]\n",
       "Index: []"
      ]
     },
     "execution_count": 22,
     "metadata": {},
     "output_type": "execute_result"
    }
   ],
   "source": [
    "#для проверки сгруппируем пользователей и посчитаем количество группы для каждого\n",
    "data_au2019.groupby('device_id').agg({'experiment_id':'nunique'}).query('experiment_id > 1') "
   ]
  },
  {
   "cell_type": "markdown",
   "metadata": {},
   "source": [
    "Мы получили пустой набор данных, то есть пользователи разных эксперементальных групп не пересекаются между собой, так что можно подолжить исследования дальше"
   ]
  },
  {
   "cell_type": "code",
   "execution_count": 23,
   "metadata": {},
   "outputs": [
    {
     "data": {
      "text/html": [
       "<div>\n",
       "<style scoped>\n",
       "    .dataframe tbody tr th:only-of-type {\n",
       "        vertical-align: middle;\n",
       "    }\n",
       "\n",
       "    .dataframe tbody tr th {\n",
       "        vertical-align: top;\n",
       "    }\n",
       "\n",
       "    .dataframe thead th {\n",
       "        text-align: right;\n",
       "    }\n",
       "</style>\n",
       "<table border=\"1\" class=\"dataframe\">\n",
       "  <thead>\n",
       "    <tr style=\"text-align: right;\">\n",
       "      <th></th>\n",
       "      <th>experiment_id</th>\n",
       "    </tr>\n",
       "    <tr>\n",
       "      <th>device_id</th>\n",
       "      <th></th>\n",
       "    </tr>\n",
       "  </thead>\n",
       "  <tbody>\n",
       "  </tbody>\n",
       "</table>\n",
       "</div>"
      ],
      "text/plain": [
       "Empty DataFrame\n",
       "Columns: [experiment_id]\n",
       "Index: []"
      ]
     },
     "execution_count": 23,
     "metadata": {},
     "output_type": "execute_result"
    }
   ],
   "source": [
    "# Код ревьюера\n",
    "# Проверим пользователей, которые могли участвовать в двух или нескольких группах одновременно:\n",
    "data_au2019.groupby('device_id').agg({'experiment_id':'nunique'}).query('experiment_id > 1') \n"
   ]
  },
  {
   "cell_type": "markdown",
   "metadata": {},
   "source": [
    "### Есть 2 контрольные группы для А/А-эксперимента, чтобы проверить корректность всех механизмов и расчётов. Проверим, находят ли статистические критерии разницу между выборками 246 и 247."
   ]
  },
  {
   "cell_type": "markdown",
   "metadata": {},
   "source": [
    "Выдвеним нулевую гипотезу: статистические критерии разница между выборками 246 и 247 присутвует, доли не равны \n",
    "\n",
    "Альтернативная гипотеза: статистические критерии разница между выборками 246 и 247 отсутвует"
   ]
  },
  {
   "cell_type": "code",
   "execution_count": 24,
   "metadata": {},
   "outputs": [],
   "source": [
    "#Для упрощения сделаем функция, которая считает результат проверки гипотезы\n",
    "\n",
    "def return_examination(purchases,leads,alpha):\n",
    "    \n",
    "    p1 = purchases[0]/leads[0]\n",
    "    p2 = purchases[1]/leads[1]\n",
    "    \n",
    "    p_combined = (purchases[0] + purchases[1]) / (leads[0] + leads[1])\n",
    "    \n",
    "    difference = p1 - p2 \n",
    "    \n",
    "    z_value = difference / mth.sqrt(p_combined * (1 - p_combined) * (1/leads[0] + 1/leads[1]))\n",
    "    \n",
    "    distr = st.norm(0, 1)\n",
    "    \n",
    "    p_value = (1 - distr.cdf(abs(z_value))) * 2\n",
    "    \n",
    "    print('p-значение: ', p_value)\n",
    "    \n",
    "    if p_value < alpha:\n",
    "        print('Отвергаем нулевую гипотезу: между долями есть значимая разница')\n",
    "    else:\n",
    "        print('Не получилось отвергнуть нулевую гипотезу, нет оснований считать доли разными')\n",
    "\n",
    "       "
   ]
  },
  {
   "cell_type": "code",
   "execution_count": 25,
   "metadata": {},
   "outputs": [
    {
     "name": "stdout",
     "output_type": "stream",
     "text": [
      "Результаты сравнения долей общего количества и MainScreenAppear по группа:\n",
      "p-значение:  0.7570597232046099\n",
      "Не получилось отвергнуть нулевую гипотезу, нет оснований считать доли разными\n",
      "\n",
      "Результаты сравнения долей общего количества и OffersScreenAppear по группа:\n",
      "p-значение:  0.2480954578522181\n",
      "Не получилось отвергнуть нулевую гипотезу, нет оснований считать доли разными\n",
      "\n",
      "Результаты сравнения долей общего количества и CartScreenAppear по группа:\n",
      "p-значение:  0.22883372237997213\n",
      "Не получилось отвергнуть нулевую гипотезу, нет оснований считать доли разными\n",
      "\n",
      "Результаты сравнения долей общего количества и PaymentScreenSuccessful по группа:\n",
      "p-значение:  0.11456679313141849\n",
      "Не получилось отвергнуть нулевую гипотезу, нет оснований считать доли разными\n"
     ]
    }
   ],
   "source": [
    "count_users = ([exp_group['device_id'].iloc[0], exp_group['device_id'].iloc[1]])\n",
    "MainScreenAppear = ([exp_group['MainScreenAppear'].iloc[0], exp_group['MainScreenAppear'].iloc[1]])\n",
    "OffersScreenAppear = ([exp_group['OffersScreenAppear'].iloc[0], exp_group['OffersScreenAppear'].iloc[1]])\n",
    "CartScreenAppear = ([exp_group['CartScreenAppear'].iloc[0], exp_group['CartScreenAppear'].iloc[1]])\n",
    "PaymentScreenSuccessful = ([exp_group['PaymentScreenSuccessful'].iloc[0], exp_group['PaymentScreenSuccessful'].iloc[1]])\n",
    "\n",
    "print('Результаты сравнения долей общего количества и MainScreenAppear по группа:')\n",
    "return_examination(MainScreenAppear, count_users, 0.05)\n",
    "\n",
    "print()\n",
    "print('Результаты сравнения долей общего количества и OffersScreenAppear по группа:')\n",
    "return_examination(OffersScreenAppear, count_users, 0.05)\n",
    "  \n",
    "print()\n",
    "print('Результаты сравнения долей общего количества и CartScreenAppear по группа:')\n",
    "return_examination(CartScreenAppear, count_users, 0.05)\n",
    "\n",
    "print()\n",
    "print('Результаты сравнения долей общего количества и PaymentScreenSuccessful по группа:')\n",
    "return_examination(PaymentScreenSuccessful, count_users, 0.05)"
   ]
  },
  {
   "cell_type": "markdown",
   "metadata": {},
   "source": [
    "Как мы видем в ходе иследования не получается опровергнуть нулевую гипотезу. \n",
    "\n",
    "**Статистические критерии разница между выборками 246 и 247 отсутсвует**"
   ]
  },
  {
   "cell_type": "markdown",
   "metadata": {},
   "source": [
    "### Выберите самое популярное событие. Посчитайте число пользователей, совершивших это событие в каждой из контрольных групп. Посчитайте долю пользователей, совершивших это событие. Проверьте, будет ли отличие между группами статистически достоверным. Проделайте то же самое для всех других событий (удобно обернуть проверку в отдельную функцию). Можно ли сказать, что разбиение на группы работает корректно?"
   ]
  },
  {
   "cell_type": "markdown",
   "metadata": {},
   "source": [
    "Так мы уже определили выше: самым популярным этапам является **MainScreenAppear**"
   ]
  },
  {
   "cell_type": "markdown",
   "metadata": {},
   "source": [
    "### Аналогично поступим с группой с изменённым шрифтом. Сравните результаты с каждой из контрольных групп в отдельности по каждому событию. Сравним результаты с объединённой контрольной группой и сделаем выводы\n",
    "\n",
    "Гипотезу оставляем прежней. "
   ]
  },
  {
   "cell_type": "code",
   "execution_count": 26,
   "metadata": {},
   "outputs": [
    {
     "name": "stdout",
     "output_type": "stream",
     "text": [
      "Результаты сравнения долей общего количества и MainScreenAppear по группа:\n",
      "p-значение:  0.2949721933554552\n",
      "Не получилось отвергнуть нулевую гипотезу, нет оснований считать доли разными\n",
      "\n",
      "Результаты сравнения долей общего количества и OffersScreenAppear по группа:\n",
      "p-значение:  0.20836205402738917\n",
      "Не получилось отвергнуть нулевую гипотезу, нет оснований считать доли разными\n",
      "\n",
      "Результаты сравнения долей общего количества и CartScreenAppear по группа:\n",
      "p-значение:  0.07842923237520116\n",
      "Отвергаем нулевую гипотезу: между долями есть значимая разница\n",
      "\n",
      "Результаты сравнения долей общего количества и PaymentScreenSuccessful по группа:\n",
      "p-значение:  0.2122553275697796\n",
      "Не получилось отвергнуть нулевую гипотезу, нет оснований считать доли разными\n"
     ]
    }
   ],
   "source": [
    "#Сравним 246 и 248\n",
    "\n",
    "count_users = ([exp_group['device_id'].iloc[0], exp_group['device_id'].iloc[2]])\n",
    "MainScreenAppear = ([exp_group['MainScreenAppear'].iloc[0], exp_group['MainScreenAppear'].iloc[2]])\n",
    "OffersScreenAppear = ([exp_group['OffersScreenAppear'].iloc[0], exp_group['OffersScreenAppear'].iloc[2]])\n",
    "CartScreenAppear = ([exp_group['CartScreenAppear'].iloc[0], exp_group['CartScreenAppear'].iloc[2]])\n",
    "PaymentScreenSuccessful = ([exp_group['PaymentScreenSuccessful'].iloc[0], exp_group['PaymentScreenSuccessful'].iloc[2]])\n",
    "alpha=0.1\n",
    "\n",
    "print('Результаты сравнения долей общего количества и MainScreenAppear по группа:')\n",
    "return_examination(MainScreenAppear, count_users, alpha=0.1)\n",
    "\n",
    "print()\n",
    "print('Результаты сравнения долей общего количества и OffersScreenAppear по группа:')\n",
    "return_examination(OffersScreenAppear, count_users, alpha=0.1)\n",
    "  \n",
    "print()\n",
    "print('Результаты сравнения долей общего количества и CartScreenAppear по группа:')\n",
    "return_examination(CartScreenAppear, count_users, alpha=0.1)\n",
    "\n",
    "print()\n",
    "print('Результаты сравнения долей общего количества и PaymentScreenSuccessful по группа:')\n",
    "return_examination(PaymentScreenSuccessful, count_users, alpha=0.1)"
   ]
  },
  {
   "cell_type": "markdown",
   "metadata": {},
   "source": [
    "По шагам MainScreenAppear, OffersScreenAppear, PaymentScreenSuccessful нельзя опровергнуть нулевую гипотезу. Поэтому можно считать, что **статистические критерии разница между выборками 246 и 248 отсутсвует**"
   ]
  },
  {
   "cell_type": "code",
   "execution_count": 27,
   "metadata": {},
   "outputs": [
    {
     "name": "stdout",
     "output_type": "stream",
     "text": [
      "Результаты сравнения долей общего количества и MainScreenAppear по группа:\n",
      "p-значение:  0.4587053616621515\n",
      "Не получилось отвергнуть нулевую гипотезу, нет оснований считать доли разными\n",
      "\n",
      "Результаты сравнения долей общего количества и OffersScreenAppear по группа:\n",
      "p-значение:  0.9197817830592261\n",
      "Не получилось отвергнуть нулевую гипотезу, нет оснований считать доли разными\n",
      "\n",
      "Результаты сравнения долей общего количества и CartScreenAppear по группа:\n",
      "p-значение:  0.5786197879539783\n",
      "Не получилось отвергнуть нулевую гипотезу, нет оснований считать доли разными\n",
      "\n",
      "Результаты сравнения долей общего количества и PaymentScreenSuccessful по группа:\n",
      "p-значение:  0.7373415053803964\n",
      "Не получилось отвергнуть нулевую гипотезу, нет оснований считать доли разными\n"
     ]
    }
   ],
   "source": [
    "#Сравним 247 и 248\n",
    "\n",
    "count_users = ([exp_group['device_id'].iloc[1], exp_group['device_id'].iloc[2]])\n",
    "MainScreenAppear = ([exp_group['MainScreenAppear'].iloc[1], exp_group['MainScreenAppear'].iloc[2]])\n",
    "OffersScreenAppear = ([exp_group['OffersScreenAppear'].iloc[1], exp_group['OffersScreenAppear'].iloc[2]])\n",
    "CartScreenAppear = ([exp_group['CartScreenAppear'].iloc[1], exp_group['CartScreenAppear'].iloc[2]])\n",
    "PaymentScreenSuccessful = ([exp_group['PaymentScreenSuccessful'].iloc[1], exp_group['PaymentScreenSuccessful'].iloc[2]])\n",
    "\n",
    "print('Результаты сравнения долей общего количества и MainScreenAppear по группа:')\n",
    "return_examination(MainScreenAppear, count_users, alpha=0.1)\n",
    "\n",
    "print()\n",
    "print('Результаты сравнения долей общего количества и OffersScreenAppear по группа:')\n",
    "return_examination(OffersScreenAppear, count_users, alpha=0.1)\n",
    "  \n",
    "print()\n",
    "print('Результаты сравнения долей общего количества и CartScreenAppear по группа:')\n",
    "return_examination(CartScreenAppear, count_users, alpha=0.1)\n",
    "\n",
    "print()\n",
    "print('Результаты сравнения долей общего количества и PaymentScreenSuccessful по группа:')\n",
    "return_examination(PaymentScreenSuccessful, count_users, alpha=0.1)"
   ]
  },
  {
   "cell_type": "markdown",
   "metadata": {},
   "source": [
    "Аналогичный результат мы получаем и при рассмотрении групп 247 и 248. Нулевую гипотезу не опровергаем!"
   ]
  },
  {
   "cell_type": "code",
   "execution_count": 28,
   "metadata": {},
   "outputs": [
    {
     "data": {
      "text/html": [
       "<div>\n",
       "<style scoped>\n",
       "    .dataframe tbody tr th:only-of-type {\n",
       "        vertical-align: middle;\n",
       "    }\n",
       "\n",
       "    .dataframe tbody tr th {\n",
       "        vertical-align: top;\n",
       "    }\n",
       "\n",
       "    .dataframe thead th {\n",
       "        text-align: right;\n",
       "    }\n",
       "</style>\n",
       "<table border=\"1\" class=\"dataframe\">\n",
       "  <thead>\n",
       "    <tr style=\"text-align: right;\">\n",
       "      <th></th>\n",
       "      <th>CartScreenAppear</th>\n",
       "      <th>MainScreenAppear</th>\n",
       "      <th>OffersScreenAppear</th>\n",
       "      <th>PaymentScreenSuccessful</th>\n",
       "      <th>device_id</th>\n",
       "    </tr>\n",
       "    <tr>\n",
       "      <th>experiment_id</th>\n",
       "      <th></th>\n",
       "      <th></th>\n",
       "      <th></th>\n",
       "      <th></th>\n",
       "      <th></th>\n",
       "    </tr>\n",
       "  </thead>\n",
       "  <tbody>\n",
       "    <tr>\n",
       "      <th>246</th>\n",
       "      <td>1266</td>\n",
       "      <td>2450</td>\n",
       "      <td>1542</td>\n",
       "      <td>1200</td>\n",
       "      <td>2484</td>\n",
       "    </tr>\n",
       "    <tr>\n",
       "      <th>247</th>\n",
       "      <td>1238</td>\n",
       "      <td>2476</td>\n",
       "      <td>1520</td>\n",
       "      <td>1158</td>\n",
       "      <td>2513</td>\n",
       "    </tr>\n",
       "    <tr>\n",
       "      <th>248</th>\n",
       "      <td>1230</td>\n",
       "      <td>2493</td>\n",
       "      <td>1531</td>\n",
       "      <td>1181</td>\n",
       "      <td>2537</td>\n",
       "    </tr>\n",
       "    <tr>\n",
       "      <th>sum</th>\n",
       "      <td>2504</td>\n",
       "      <td>4926</td>\n",
       "      <td>3062</td>\n",
       "      <td>2358</td>\n",
       "      <td>4997</td>\n",
       "    </tr>\n",
       "  </tbody>\n",
       "</table>\n",
       "</div>"
      ],
      "text/plain": [
       "               CartScreenAppear  MainScreenAppear  OffersScreenAppear  \\\n",
       "experiment_id                                                           \n",
       "246                        1266              2450                1542   \n",
       "247                        1238              2476                1520   \n",
       "248                        1230              2493                1531   \n",
       "sum                        2504              4926                3062   \n",
       "\n",
       "               PaymentScreenSuccessful  device_id  \n",
       "experiment_id                                      \n",
       "246                               1200       2484  \n",
       "247                               1158       2513  \n",
       "248                               1181       2537  \n",
       "sum                               2358       4997  "
      ]
     },
     "execution_count": 28,
     "metadata": {},
     "output_type": "execute_result"
    }
   ],
   "source": [
    "#Создадим новую строку с суммой первых двух групп\n",
    "\n",
    "exp_group.loc['sum'] = [exp_group['CartScreenAppear'].iloc[0]+exp_group['CartScreenAppear'].iloc[1] , exp_group['MainScreenAppear'].iloc[0]+exp_group['MainScreenAppear'].iloc[1], exp_group['OffersScreenAppear'].iloc[0]+exp_group['OffersScreenAppear'].iloc[1], exp_group['PaymentScreenSuccessful'].iloc[0]+exp_group['PaymentScreenSuccessful'].iloc[1], exp_group['device_id'].iloc[0]+exp_group['device_id'].iloc[1]]\n",
    "\n",
    "exp_group\n"
   ]
  },
  {
   "cell_type": "markdown",
   "metadata": {},
   "source": [
    "Теперь у нас появилась новая строка с суммой групп 246 и 247"
   ]
  },
  {
   "cell_type": "code",
   "execution_count": 29,
   "metadata": {},
   "outputs": [
    {
     "name": "stdout",
     "output_type": "stream",
     "text": [
      "Результаты сравнения долей общего количества и MainScreenAppear по группа:\n",
      "p-значение:  0.29424526837179577\n",
      "Не получилось отвергнуть нулевую гипотезу, нет оснований считать доли разными\n",
      "\n",
      "Результаты сравнения долей общего количества и OffersScreenAppear по группа:\n",
      "p-значение:  0.43425549655188256\n",
      "Не получилось отвергнуть нулевую гипотезу, нет оснований считать доли разными\n",
      "\n",
      "Результаты сравнения долей общего количества и CartScreenAppear по группа:\n",
      "p-значение:  0.18175875284404386\n",
      "Не получилось отвергнуть нулевую гипотезу, нет оснований считать доли разными\n",
      "\n",
      "Результаты сравнения долей общего количества и PaymentScreenSuccessful по группа:\n",
      "p-значение:  0.6004294282308704\n",
      "Не получилось отвергнуть нулевую гипотезу, нет оснований считать доли разными\n"
     ]
    }
   ],
   "source": [
    "#Сравним 248 и общую группу\n",
    "\n",
    "count_users = ([exp_group['device_id'].iloc[2], exp_group['device_id'].iloc[3]])\n",
    "MainScreenAppear = ([exp_group['MainScreenAppear'].iloc[2], exp_group['MainScreenAppear'].iloc[3]])\n",
    "OffersScreenAppear = ([exp_group['OffersScreenAppear'].iloc[2], exp_group['OffersScreenAppear'].iloc[3]])\n",
    "CartScreenAppear = ([exp_group['CartScreenAppear'].iloc[2], exp_group['CartScreenAppear'].iloc[3]])\n",
    "PaymentScreenSuccessful = ([exp_group['PaymentScreenSuccessful'].iloc[2], exp_group['PaymentScreenSuccessful'].iloc[3]])\n",
    "\n",
    "\n",
    "\n",
    "print('Результаты сравнения долей общего количества и MainScreenAppear по группа:')\n",
    "return_examination(MainScreenAppear, count_users, alpha)\n",
    "\n",
    "print()\n",
    "print('Результаты сравнения долей общего количества и OffersScreenAppear по группа:')\n",
    "return_examination(OffersScreenAppear, count_users, alpha)\n",
    "  \n",
    "print()\n",
    "print('Результаты сравнения долей общего количества и CartScreenAppear по группа:')\n",
    "return_examination(CartScreenAppear, count_users, alpha)\n",
    "\n",
    "print()\n",
    "print('Результаты сравнения долей общего количества и PaymentScreenSuccessful по группа:')\n",
    "return_examination(PaymentScreenSuccessful, count_users, alpha)"
   ]
  },
  {
   "cell_type": "markdown",
   "metadata": {},
   "source": [
    "**Значимой разницы между группой с изменённым шрифтом и контрольной группой нет.**"
   ]
  },
  {
   "cell_type": "markdown",
   "metadata": {},
   "source": [
    "### Какой уровень значимости вы выбрали при проверке статистических гипотез выше? Посчитайте, сколько проверок статистических гипотез вы сделали. При уровне значимости 0.1 каждый десятый раз можно получать ложный результат. Какой уровень значимости стоит применить? Если вы хотите изменить его, проделайте предыдущие пункты и проверьте свои выводы."
   ]
  },
  {
   "cell_type": "markdown",
   "metadata": {},
   "source": [
    "Сделаем проверку со значениме значимости = 0.05 для проверки. "
   ]
  },
  {
   "cell_type": "code",
   "execution_count": 30,
   "metadata": {},
   "outputs": [
    {
     "name": "stdout",
     "output_type": "stream",
     "text": [
      "Результаты сравнения долей общего количества и MainScreenAppear по группа:\n",
      "p-значение:  0.2949721933554552\n",
      "Не получилось отвергнуть нулевую гипотезу, нет оснований считать доли разными\n",
      "\n",
      "Результаты сравнения долей общего количества и OffersScreenAppear по группа:\n",
      "p-значение:  0.20836205402738917\n",
      "Не получилось отвергнуть нулевую гипотезу, нет оснований считать доли разными\n",
      "\n",
      "Результаты сравнения долей общего количества и CartScreenAppear по группа:\n",
      "p-значение:  0.07842923237520116\n",
      "Не получилось отвергнуть нулевую гипотезу, нет оснований считать доли разными\n",
      "\n",
      "Результаты сравнения долей общего количества и PaymentScreenSuccessful по группа:\n",
      "p-значение:  0.2122553275697796\n",
      "Не получилось отвергнуть нулевую гипотезу, нет оснований считать доли разными\n"
     ]
    }
   ],
   "source": [
    "#Сравним 246 и 248 с уровнем значимости 0.05\n",
    "\n",
    "count_users = ([exp_group['device_id'].iloc[0], exp_group['device_id'].iloc[2]])\n",
    "MainScreenAppear = ([exp_group['MainScreenAppear'].iloc[0], exp_group['MainScreenAppear'].iloc[2]])\n",
    "OffersScreenAppear = ([exp_group['OffersScreenAppear'].iloc[0], exp_group['OffersScreenAppear'].iloc[2]])\n",
    "CartScreenAppear = ([exp_group['CartScreenAppear'].iloc[0], exp_group['CartScreenAppear'].iloc[2]])\n",
    "PaymentScreenSuccessful = ([exp_group['PaymentScreenSuccessful'].iloc[0], exp_group['PaymentScreenSuccessful'].iloc[2]])\n",
    "alpha=0.05\n",
    "\n",
    "print('Результаты сравнения долей общего количества и MainScreenAppear по группа:')\n",
    "return_examination(MainScreenAppear, count_users, alpha)\n",
    "\n",
    "print()\n",
    "print('Результаты сравнения долей общего количества и OffersScreenAppear по группа:')\n",
    "return_examination(OffersScreenAppear, count_users, alpha)\n",
    "  \n",
    "print()\n",
    "print('Результаты сравнения долей общего количества и CartScreenAppear по группа:')\n",
    "return_examination(CartScreenAppear, count_users, alpha)\n",
    "\n",
    "print()\n",
    "print('Результаты сравнения долей общего количества и PaymentScreenSuccessful по группа:')\n",
    "return_examination(PaymentScreenSuccessful, count_users, alpha)"
   ]
  },
  {
   "cell_type": "code",
   "execution_count": 31,
   "metadata": {},
   "outputs": [
    {
     "name": "stdout",
     "output_type": "stream",
     "text": [
      "Результаты сравнения долей общего количества и MainScreenAppear по группа:\n",
      "p-значение:  0.4587053616621515\n",
      "Не получилось отвергнуть нулевую гипотезу, нет оснований считать доли разными\n",
      "\n",
      "Результаты сравнения долей общего количества и OffersScreenAppear по группа:\n",
      "p-значение:  0.9197817830592261\n",
      "Не получилось отвергнуть нулевую гипотезу, нет оснований считать доли разными\n",
      "\n",
      "Результаты сравнения долей общего количества и CartScreenAppear по группа:\n",
      "p-значение:  0.5786197879539783\n",
      "Не получилось отвергнуть нулевую гипотезу, нет оснований считать доли разными\n",
      "\n",
      "Результаты сравнения долей общего количества и PaymentScreenSuccessful по группа:\n",
      "p-значение:  0.7373415053803964\n",
      "Не получилось отвергнуть нулевую гипотезу, нет оснований считать доли разными\n"
     ]
    }
   ],
   "source": [
    "#Сравним 247 и 248 с уровнем значимости 0.05\n",
    "\n",
    "count_users = ([exp_group['device_id'].iloc[1], exp_group['device_id'].iloc[2]])\n",
    "MainScreenAppear = ([exp_group['MainScreenAppear'].iloc[1], exp_group['MainScreenAppear'].iloc[2]])\n",
    "OffersScreenAppear = ([exp_group['OffersScreenAppear'].iloc[1], exp_group['OffersScreenAppear'].iloc[2]])\n",
    "CartScreenAppear = ([exp_group['CartScreenAppear'].iloc[1], exp_group['CartScreenAppear'].iloc[2]])\n",
    "PaymentScreenSuccessful = ([exp_group['PaymentScreenSuccessful'].iloc[1], exp_group['PaymentScreenSuccessful'].iloc[2]])\n",
    "\n",
    "print('Результаты сравнения долей общего количества и MainScreenAppear по группа:')\n",
    "return_examination(MainScreenAppear, count_users, alpha=0.1)\n",
    "\n",
    "print()\n",
    "print('Результаты сравнения долей общего количества и OffersScreenAppear по группа:')\n",
    "return_examination(OffersScreenAppear, count_users, alpha=0.1)\n",
    "  \n",
    "print()\n",
    "print('Результаты сравнения долей общего количества и CartScreenAppear по группа:')\n",
    "return_examination(CartScreenAppear, count_users, alpha=0.1)\n",
    "\n",
    "print()\n",
    "print('Результаты сравнения долей общего количества и PaymentScreenSuccessful по группа:')\n",
    "return_examination(PaymentScreenSuccessful, count_users, alpha=0.1)"
   ]
  },
  {
   "cell_type": "code",
   "execution_count": 32,
   "metadata": {},
   "outputs": [
    {
     "name": "stdout",
     "output_type": "stream",
     "text": [
      "Результаты сравнения долей общего количества и MainScreenAppear по группа:\n",
      "p-значение:  0.29424526837179577\n",
      "Не получилось отвергнуть нулевую гипотезу, нет оснований считать доли разными\n",
      "\n",
      "Результаты сравнения долей общего количества и OffersScreenAppear по группа:\n",
      "p-значение:  0.43425549655188256\n",
      "Не получилось отвергнуть нулевую гипотезу, нет оснований считать доли разными\n",
      "\n",
      "Результаты сравнения долей общего количества и CartScreenAppear по группа:\n",
      "p-значение:  0.18175875284404386\n",
      "Не получилось отвергнуть нулевую гипотезу, нет оснований считать доли разными\n",
      "\n",
      "Результаты сравнения долей общего количества и PaymentScreenSuccessful по группа:\n",
      "p-значение:  0.6004294282308704\n",
      "Не получилось отвергнуть нулевую гипотезу, нет оснований считать доли разными\n"
     ]
    }
   ],
   "source": [
    "#Сравним 248 и общую группу с уровнем значимости 0.05\n",
    "\n",
    "count_users = ([exp_group['device_id'].iloc[2], exp_group['device_id'].iloc[3]])\n",
    "MainScreenAppear = ([exp_group['MainScreenAppear'].iloc[2], exp_group['MainScreenAppear'].iloc[3]])\n",
    "OffersScreenAppear = ([exp_group['OffersScreenAppear'].iloc[2], exp_group['OffersScreenAppear'].iloc[3]])\n",
    "CartScreenAppear = ([exp_group['CartScreenAppear'].iloc[2], exp_group['CartScreenAppear'].iloc[3]])\n",
    "PaymentScreenSuccessful = ([exp_group['PaymentScreenSuccessful'].iloc[2], exp_group['PaymentScreenSuccessful'].iloc[3]])\n",
    "\n",
    "\n",
    "\n",
    "print('Результаты сравнения долей общего количества и MainScreenAppear по группа:')\n",
    "return_examination(MainScreenAppear, count_users, alpha)\n",
    "\n",
    "print()\n",
    "print('Результаты сравнения долей общего количества и OffersScreenAppear по группа:')\n",
    "return_examination(OffersScreenAppear, count_users, alpha)\n",
    "  \n",
    "print()\n",
    "print('Результаты сравнения долей общего количества и CartScreenAppear по группа:')\n",
    "return_examination(CartScreenAppear, count_users, alpha)\n",
    "\n",
    "print()\n",
    "print('Результаты сравнения долей общего количества и PaymentScreenSuccessful по группа:')\n",
    "return_examination(PaymentScreenSuccessful, count_users, alpha)"
   ]
  },
  {
   "cell_type": "markdown",
   "metadata": {},
   "source": [
    "При изменении коэффициента значимости решения не опровергать нулевую гипотезу."
   ]
  },
  {
   "cell_type": "markdown",
   "metadata": {},
   "source": [
    "### Общий вывод"
   ]
  },
  {
   "cell_type": "markdown",
   "metadata": {},
   "source": [
    "Для анализа нам представлен набор данных, который состоит из событий связанных с пользователями мобильного приложения. Есть несколько этапо, которые можно выделить:\n",
    "\n",
    "- MainScreenAppear (Появление главного экрана)\n",
    "- OffersScreenAppear (Появление экрана предложения)\n",
    "- CartScreenAppear (Появление экрана корзины) \n",
    "- PaymentScreenSuccessful (Появление экрана об успешной оплате) \n",
    "- Tutorial (Руководство)\n",
    "\n",
    "Также у нас есть 3 эксперементальные группы: 2 контрольные со старыми шрифтами и одну экспериментальную — с новыми. \n",
    "\n",
    "При предобработке данных мы нашли дубликаты и удалили их, также преобразовали столбец с датой и временем в нужный столбец. Добавили новый столбец только со значениме даты. При подробном рассмотрении периода, который содержит набор мы исключили события, которые редко встречаются. Для исследования исопользуется период с 1 августа по 7 августа 2019 года.\n",
    "\n",
    "При расчете конверсии мы определили, что до этап **Tutorial** доходит самое маленько количество людей, всего 11%. Этап MainScreenAppear является в свою очередь самым часто используемым, это в полне очеведно, так как главный экран посещают все пользователи, исключая переход по ссылкам. Его процент составляет  98%. \n",
    "\n",
    "Далее для сравнения нескольких эксперементальных групп мы использовали A/B тестирование. \n",
    "Мы выдвинули гипотезы о равенстве долей. При сравнении группы 246 и 247 нулевую гипотезу не отвергаем, доли равны. \n",
    "Аналогичная ситуация при сравении группы при сравнении группы 247 и 248. \n",
    "А вот между группами 246 и 248 доли равны во всех случая, кроме CartScreenAppear. В этом случае мы опровергаем нулевую гипотезу и значения в этих группах действительно значимо отличается. \n",
    "\n",
    "При изменении уровня значимости разницы между группами при всех событиях нет. Исключением является сравнение 246 и 248, где мы используем коэффициент 0.1, так как он точнее показывает результат отличия долей при переходе в корзину."
   ]
  }
 ],
 "metadata": {
  "ExecuteTimeLog": [
   {
    "duration": 1019,
    "start_time": "2023-04-10T09:21:35.975Z"
   },
   {
    "duration": 174,
    "start_time": "2023-04-10T09:21:51.256Z"
   },
   {
    "duration": 21,
    "start_time": "2023-04-10T09:22:07.002Z"
   },
   {
    "duration": 626,
    "start_time": "2023-04-10T09:24:56.268Z"
   },
   {
    "duration": 1157,
    "start_time": "2023-04-10T09:25:00.444Z"
   },
   {
    "duration": 2343,
    "start_time": "2023-04-10T09:25:01.800Z"
   },
   {
    "duration": 163,
    "start_time": "2023-04-10T09:32:16.742Z"
   },
   {
    "duration": 1171,
    "start_time": "2023-04-10T09:32:17.645Z"
   },
   {
    "duration": 24,
    "start_time": "2023-04-10T09:32:34.325Z"
   },
   {
    "duration": 164,
    "start_time": "2023-04-10T09:32:55.593Z"
   },
   {
    "duration": 612,
    "start_time": "2023-04-10T09:33:07.225Z"
   },
   {
    "duration": 29,
    "start_time": "2023-04-10T09:35:23.590Z"
   },
   {
    "duration": 543,
    "start_time": "2023-04-10T09:36:29.222Z"
   },
   {
    "duration": 708,
    "start_time": "2023-04-10T09:37:07.625Z"
   },
   {
    "duration": 158,
    "start_time": "2023-04-10T09:37:13.629Z"
   },
   {
    "duration": 23,
    "start_time": "2023-04-10T09:37:14.417Z"
   },
   {
    "duration": 54,
    "start_time": "2023-04-10T09:37:20.545Z"
   },
   {
    "duration": 90,
    "start_time": "2023-04-10T09:38:19.580Z"
   },
   {
    "duration": 99,
    "start_time": "2023-04-10T09:38:49.887Z"
   },
   {
    "duration": 93,
    "start_time": "2023-04-10T09:39:17.068Z"
   },
   {
    "duration": 88,
    "start_time": "2023-04-10T09:39:22.964Z"
   },
   {
    "duration": 95,
    "start_time": "2023-04-10T09:39:33.388Z"
   },
   {
    "duration": 94,
    "start_time": "2023-04-10T09:40:13.315Z"
   },
   {
    "duration": 103,
    "start_time": "2023-04-10T09:40:22.371Z"
   },
   {
    "duration": 172,
    "start_time": "2023-04-10T09:41:05.976Z"
   },
   {
    "duration": 163,
    "start_time": "2023-04-10T09:41:17.692Z"
   },
   {
    "duration": 228,
    "start_time": "2023-04-10T09:41:38.097Z"
   },
   {
    "duration": 70,
    "start_time": "2023-04-10T09:43:45.744Z"
   },
   {
    "duration": 71,
    "start_time": "2023-04-10T09:43:50.191Z"
   },
   {
    "duration": 65,
    "start_time": "2023-04-10T09:43:57.551Z"
   },
   {
    "duration": 72,
    "start_time": "2023-04-10T09:44:57.531Z"
   },
   {
    "duration": 11,
    "start_time": "2023-04-10T09:48:19.708Z"
   },
   {
    "duration": 17,
    "start_time": "2023-04-10T09:48:30.057Z"
   },
   {
    "duration": 5,
    "start_time": "2023-04-10T09:48:49.052Z"
   },
   {
    "duration": 13,
    "start_time": "2023-04-10T09:49:15.076Z"
   },
   {
    "duration": 3,
    "start_time": "2023-04-10T09:49:57.559Z"
   },
   {
    "duration": 14,
    "start_time": "2023-04-10T09:50:14.431Z"
   },
   {
    "duration": 167,
    "start_time": "2023-04-10T09:51:04.432Z"
   },
   {
    "duration": 191,
    "start_time": "2023-04-10T09:51:14.272Z"
   },
   {
    "duration": 174,
    "start_time": "2023-04-10T09:51:27.908Z"
   },
   {
    "duration": 155,
    "start_time": "2023-04-10T09:51:56.747Z"
   },
   {
    "duration": 172,
    "start_time": "2023-04-10T09:52:01.543Z"
   },
   {
    "duration": 133,
    "start_time": "2023-04-10T09:53:23.141Z"
   },
   {
    "duration": 17,
    "start_time": "2023-04-10T09:53:26.563Z"
   },
   {
    "duration": 20,
    "start_time": "2023-04-10T09:53:43.212Z"
   },
   {
    "duration": 17,
    "start_time": "2023-04-10T09:53:47.306Z"
   },
   {
    "duration": 13,
    "start_time": "2023-04-10T09:55:37.159Z"
   },
   {
    "duration": 17,
    "start_time": "2023-04-10T09:55:48.878Z"
   },
   {
    "duration": 567,
    "start_time": "2023-04-10T09:56:45.143Z"
   },
   {
    "duration": 15,
    "start_time": "2023-04-10T09:56:54.130Z"
   },
   {
    "duration": 10,
    "start_time": "2023-04-10T09:57:34.198Z"
   },
   {
    "duration": 11,
    "start_time": "2023-04-10T09:57:48.699Z"
   },
   {
    "duration": 13,
    "start_time": "2023-04-10T09:58:23.955Z"
   },
   {
    "duration": 60,
    "start_time": "2023-04-10T14:46:08.191Z"
   },
   {
    "duration": 2128,
    "start_time": "2023-04-10T14:46:12.383Z"
   },
   {
    "duration": 269,
    "start_time": "2023-04-10T14:46:14.513Z"
   },
   {
    "duration": 77,
    "start_time": "2023-04-10T14:46:14.783Z"
   },
   {
    "duration": 176,
    "start_time": "2023-04-10T14:46:15.391Z"
   },
   {
    "duration": 19,
    "start_time": "2023-04-10T14:46:16.243Z"
   },
   {
    "duration": 27,
    "start_time": "2023-04-10T14:46:17.115Z"
   },
   {
    "duration": 29,
    "start_time": "2023-04-10T14:46:17.582Z"
   },
   {
    "duration": 93,
    "start_time": "2023-04-10T14:49:42.763Z"
   },
   {
    "duration": 66,
    "start_time": "2023-04-10T14:50:27.995Z"
   },
   {
    "duration": 74,
    "start_time": "2023-04-10T14:50:38.775Z"
   },
   {
    "duration": 4490,
    "start_time": "2023-04-10T14:51:18.211Z"
   },
   {
    "duration": 4432,
    "start_time": "2023-04-10T14:51:32.639Z"
   },
   {
    "duration": 37,
    "start_time": "2023-04-10T14:52:38.160Z"
   },
   {
    "duration": 52,
    "start_time": "2023-04-10T14:54:12.303Z"
   },
   {
    "duration": 34,
    "start_time": "2023-04-10T14:54:23.967Z"
   },
   {
    "duration": 226,
    "start_time": "2023-04-10T14:54:42.863Z"
   },
   {
    "duration": 192,
    "start_time": "2023-04-10T14:55:41.638Z"
   },
   {
    "duration": 181,
    "start_time": "2023-04-10T14:55:49.434Z"
   },
   {
    "duration": 184,
    "start_time": "2023-04-10T14:55:56.263Z"
   },
   {
    "duration": 141,
    "start_time": "2023-04-10T14:57:28.614Z"
   },
   {
    "duration": 322,
    "start_time": "2023-04-10T14:57:43.639Z"
   },
   {
    "duration": 219,
    "start_time": "2023-04-10T14:57:54.044Z"
   },
   {
    "duration": 70,
    "start_time": "2023-04-10T14:58:48.399Z"
   },
   {
    "duration": 208,
    "start_time": "2023-04-10T14:58:56.435Z"
   },
   {
    "duration": 430,
    "start_time": "2023-04-10T15:03:27.143Z"
   },
   {
    "duration": 397,
    "start_time": "2023-04-10T15:04:13.540Z"
   },
   {
    "duration": 7,
    "start_time": "2023-04-10T15:09:03.737Z"
   },
   {
    "duration": 13,
    "start_time": "2023-04-10T15:11:06.556Z"
   },
   {
    "duration": 72,
    "start_time": "2023-04-10T15:11:57.671Z"
   },
   {
    "duration": 86,
    "start_time": "2023-04-10T15:12:03.315Z"
   },
   {
    "duration": 68,
    "start_time": "2023-04-10T15:12:19.485Z"
   },
   {
    "duration": 38,
    "start_time": "2023-04-10T15:12:38.244Z"
   },
   {
    "duration": 484,
    "start_time": "2023-04-10T15:13:51.859Z"
   },
   {
    "duration": 36,
    "start_time": "2023-04-10T15:13:56.874Z"
   },
   {
    "duration": 9,
    "start_time": "2023-04-10T15:15:14.747Z"
   },
   {
    "duration": 9,
    "start_time": "2023-04-10T15:15:44.092Z"
   },
   {
    "duration": 6,
    "start_time": "2023-04-10T15:16:54.787Z"
   },
   {
    "duration": 41,
    "start_time": "2023-04-10T15:18:08.974Z"
   },
   {
    "duration": 7,
    "start_time": "2023-04-10T15:18:14.344Z"
   },
   {
    "duration": 9,
    "start_time": "2023-04-10T15:18:27.243Z"
   },
   {
    "duration": 7,
    "start_time": "2023-04-10T15:18:54.201Z"
   },
   {
    "duration": 10,
    "start_time": "2023-04-10T15:19:15.737Z"
   },
   {
    "duration": 1023,
    "start_time": "2023-04-10T15:21:02.382Z"
   },
   {
    "duration": 4,
    "start_time": "2023-04-10T15:21:18.586Z"
   },
   {
    "duration": 3,
    "start_time": "2023-04-10T15:22:12.965Z"
   },
   {
    "duration": 7,
    "start_time": "2023-04-10T15:22:19.462Z"
   },
   {
    "duration": 8,
    "start_time": "2023-04-10T15:22:37.944Z"
   },
   {
    "duration": 7,
    "start_time": "2023-04-10T15:22:41.156Z"
   },
   {
    "duration": 979,
    "start_time": "2023-04-10T15:23:47.099Z"
   },
   {
    "duration": 14,
    "start_time": "2023-04-10T15:23:53.735Z"
   },
   {
    "duration": 4,
    "start_time": "2023-04-10T15:24:16.740Z"
   },
   {
    "duration": 19,
    "start_time": "2023-04-10T15:24:46.651Z"
   },
   {
    "duration": 8,
    "start_time": "2023-04-10T15:25:01.254Z"
   },
   {
    "duration": 7,
    "start_time": "2023-04-10T15:25:02.948Z"
   },
   {
    "duration": 8,
    "start_time": "2023-04-10T15:32:55.945Z"
   },
   {
    "duration": 10,
    "start_time": "2023-04-10T15:33:20.540Z"
   },
   {
    "duration": 8,
    "start_time": "2023-04-10T15:33:43.976Z"
   },
   {
    "duration": 5,
    "start_time": "2023-04-10T15:33:49.775Z"
   },
   {
    "duration": 12,
    "start_time": "2023-04-10T15:36:08.450Z"
   },
   {
    "duration": 14,
    "start_time": "2023-04-10T15:36:49.882Z"
   },
   {
    "duration": 10,
    "start_time": "2023-04-10T15:36:56.257Z"
   },
   {
    "duration": 14,
    "start_time": "2023-04-10T15:37:11.529Z"
   },
   {
    "duration": 6,
    "start_time": "2023-04-10T15:40:05.015Z"
   },
   {
    "duration": 10,
    "start_time": "2023-04-10T15:40:13.976Z"
   },
   {
    "duration": 63,
    "start_time": "2023-04-10T15:40:37.604Z"
   },
   {
    "duration": 13,
    "start_time": "2023-04-10T15:40:42.616Z"
   },
   {
    "duration": 8,
    "start_time": "2023-04-10T15:40:52.540Z"
   },
   {
    "duration": 9,
    "start_time": "2023-04-10T15:41:43.839Z"
   },
   {
    "duration": 39,
    "start_time": "2023-04-10T15:49:06.617Z"
   },
   {
    "duration": 30,
    "start_time": "2023-04-10T15:49:18.369Z"
   },
   {
    "duration": 28,
    "start_time": "2023-04-10T15:50:35.380Z"
   },
   {
    "duration": 38,
    "start_time": "2023-04-10T15:50:41.876Z"
   },
   {
    "duration": 50,
    "start_time": "2023-04-10T15:51:25.340Z"
   },
   {
    "duration": 61,
    "start_time": "2023-04-10T15:53:49.587Z"
   },
   {
    "duration": 64,
    "start_time": "2023-04-10T15:53:58.678Z"
   },
   {
    "duration": 763,
    "start_time": "2023-04-10T15:56:29.970Z"
   },
   {
    "duration": 56,
    "start_time": "2023-04-10T15:56:38.633Z"
   },
   {
    "duration": 55,
    "start_time": "2023-04-10T15:56:45.353Z"
   },
   {
    "duration": 7,
    "start_time": "2023-04-10T15:59:47.412Z"
   },
   {
    "duration": 9,
    "start_time": "2023-04-10T16:03:03.410Z"
   },
   {
    "duration": 56,
    "start_time": "2023-04-10T16:03:08.376Z"
   },
   {
    "duration": 71,
    "start_time": "2023-04-10T16:03:50.847Z"
   },
   {
    "duration": 224,
    "start_time": "2023-04-10T16:03:55.395Z"
   },
   {
    "duration": 495,
    "start_time": "2023-04-10T16:05:15.615Z"
   },
   {
    "duration": 270,
    "start_time": "2023-04-10T16:05:37.861Z"
   },
   {
    "duration": 267,
    "start_time": "2023-04-10T16:05:55.793Z"
   },
   {
    "duration": 316,
    "start_time": "2023-04-10T16:06:19.810Z"
   },
   {
    "duration": 1191,
    "start_time": "2023-04-10T17:26:54.627Z"
   },
   {
    "duration": 214,
    "start_time": "2023-04-10T17:26:55.819Z"
   },
   {
    "duration": 62,
    "start_time": "2023-04-10T17:26:56.035Z"
   },
   {
    "duration": 160,
    "start_time": "2023-04-10T17:26:56.099Z"
   },
   {
    "duration": 18,
    "start_time": "2023-04-10T17:26:56.261Z"
   },
   {
    "duration": 10,
    "start_time": "2023-04-10T17:26:56.281Z"
   },
   {
    "duration": 519,
    "start_time": "2023-04-10T17:26:56.292Z"
   },
   {
    "duration": 9,
    "start_time": "2023-04-10T17:26:56.817Z"
   },
   {
    "duration": 8,
    "start_time": "2023-04-10T17:26:56.828Z"
   },
   {
    "duration": 47,
    "start_time": "2023-04-10T17:26:56.838Z"
   },
   {
    "duration": 82,
    "start_time": "2023-04-10T17:26:56.887Z"
   },
   {
    "duration": 300,
    "start_time": "2023-04-10T17:26:56.970Z"
   },
   {
    "duration": 130,
    "start_time": "2023-04-10T17:26:57.271Z"
   },
   {
    "duration": 24,
    "start_time": "2023-04-10T17:27:13.163Z"
   },
   {
    "duration": 741,
    "start_time": "2023-04-10T17:36:40.392Z"
   },
   {
    "duration": 12,
    "start_time": "2023-04-10T17:37:09.611Z"
   },
   {
    "duration": 12,
    "start_time": "2023-04-10T17:37:22.701Z"
   },
   {
    "duration": 8,
    "start_time": "2023-04-10T17:37:29.579Z"
   },
   {
    "duration": 11,
    "start_time": "2023-04-10T17:37:45.948Z"
   },
   {
    "duration": 4,
    "start_time": "2023-04-10T18:04:10.600Z"
   },
   {
    "duration": 45,
    "start_time": "2023-04-10T18:04:42.584Z"
   },
   {
    "duration": 4,
    "start_time": "2023-04-10T18:04:50.413Z"
   },
   {
    "duration": 47,
    "start_time": "2023-04-11T16:27:22.521Z"
   },
   {
    "duration": 1877,
    "start_time": "2023-04-11T16:27:30.375Z"
   },
   {
    "duration": 241,
    "start_time": "2023-04-11T16:27:32.254Z"
   },
   {
    "duration": 88,
    "start_time": "2023-04-11T16:27:32.497Z"
   },
   {
    "duration": 180,
    "start_time": "2023-04-11T16:27:32.587Z"
   },
   {
    "duration": 17,
    "start_time": "2023-04-11T16:27:32.768Z"
   },
   {
    "duration": 11,
    "start_time": "2023-04-11T16:27:32.787Z"
   },
   {
    "duration": 544,
    "start_time": "2023-04-11T16:27:32.800Z"
   },
   {
    "duration": 8,
    "start_time": "2023-04-11T16:27:33.345Z"
   },
   {
    "duration": 9,
    "start_time": "2023-04-11T16:27:33.355Z"
   },
   {
    "duration": 39,
    "start_time": "2023-04-11T16:27:33.366Z"
   },
   {
    "duration": 85,
    "start_time": "2023-04-11T16:27:33.406Z"
   },
   {
    "duration": 323,
    "start_time": "2023-04-11T16:27:33.492Z"
   },
   {
    "duration": 19,
    "start_time": "2023-04-11T16:27:33.817Z"
   },
   {
    "duration": 5,
    "start_time": "2023-04-11T16:27:33.837Z"
   },
   {
    "duration": 116,
    "start_time": "2023-04-11T16:27:33.844Z"
   },
   {
    "duration": 12,
    "start_time": "2023-04-11T16:28:08.523Z"
   },
   {
    "duration": 8,
    "start_time": "2023-04-11T16:28:24.207Z"
   },
   {
    "duration": 37,
    "start_time": "2023-04-11T16:28:40.558Z"
   },
   {
    "duration": 84,
    "start_time": "2023-04-11T16:32:38.030Z"
   },
   {
    "duration": 62,
    "start_time": "2023-04-11T16:33:20.258Z"
   },
   {
    "duration": 66,
    "start_time": "2023-04-11T16:34:02.385Z"
   },
   {
    "duration": 62,
    "start_time": "2023-04-11T16:36:36.362Z"
   },
   {
    "duration": 64,
    "start_time": "2023-04-11T16:38:29.938Z"
   },
   {
    "duration": 65,
    "start_time": "2023-04-11T16:38:53.970Z"
   },
   {
    "duration": 69,
    "start_time": "2023-04-11T16:39:05.980Z"
   },
   {
    "duration": 65,
    "start_time": "2023-04-11T16:39:14.742Z"
   },
   {
    "duration": 70,
    "start_time": "2023-04-11T16:39:29.589Z"
   },
   {
    "duration": 62,
    "start_time": "2023-04-11T16:41:39.682Z"
   },
   {
    "duration": 1465,
    "start_time": "2023-04-11T16:42:02.897Z"
   },
   {
    "duration": 2303,
    "start_time": "2023-04-11T16:42:20.365Z"
   },
   {
    "duration": 68,
    "start_time": "2023-04-11T16:42:45.242Z"
   },
   {
    "duration": 81,
    "start_time": "2023-04-11T16:42:54.625Z"
   },
   {
    "duration": 66,
    "start_time": "2023-04-11T16:43:16.758Z"
   },
   {
    "duration": 65,
    "start_time": "2023-04-11T16:43:33.629Z"
   },
   {
    "duration": 74,
    "start_time": "2023-04-11T16:43:56.633Z"
   },
   {
    "duration": 68,
    "start_time": "2023-04-11T16:45:29.069Z"
   },
   {
    "duration": 67,
    "start_time": "2023-04-11T16:45:39.530Z"
   },
   {
    "duration": 86,
    "start_time": "2023-04-11T16:47:01.264Z"
   },
   {
    "duration": 1708,
    "start_time": "2023-04-11T16:54:16.337Z"
   },
   {
    "duration": 1381,
    "start_time": "2023-04-11T16:54:52.389Z"
   },
   {
    "duration": 77,
    "start_time": "2023-04-11T16:55:37.368Z"
   },
   {
    "duration": 129,
    "start_time": "2023-04-11T16:58:50.176Z"
   },
   {
    "duration": 118,
    "start_time": "2023-04-11T16:58:55.409Z"
   },
   {
    "duration": 100,
    "start_time": "2023-04-11T16:59:01.017Z"
   },
   {
    "duration": 92,
    "start_time": "2023-04-11T16:59:05.953Z"
   },
   {
    "duration": 98,
    "start_time": "2023-04-11T16:59:17.796Z"
   },
   {
    "duration": 94,
    "start_time": "2023-04-11T16:59:36.216Z"
   },
   {
    "duration": 96,
    "start_time": "2023-04-11T16:59:48.892Z"
   },
   {
    "duration": 3612,
    "start_time": "2023-04-11T17:00:03.620Z"
   },
   {
    "duration": 2583,
    "start_time": "2023-04-11T17:00:22.136Z"
   },
   {
    "duration": 1885,
    "start_time": "2023-04-11T17:00:46.698Z"
   },
   {
    "duration": 1805,
    "start_time": "2023-04-11T17:00:51.884Z"
   },
   {
    "duration": 117,
    "start_time": "2023-04-11T17:01:15.164Z"
   },
   {
    "duration": 112,
    "start_time": "2023-04-11T17:03:07.564Z"
   },
   {
    "duration": 19,
    "start_time": "2023-04-11T17:07:52.987Z"
   },
   {
    "duration": 15,
    "start_time": "2023-04-11T17:08:18.216Z"
   },
   {
    "duration": 2200,
    "start_time": "2023-04-11T17:08:36.168Z"
   },
   {
    "duration": 2418,
    "start_time": "2023-04-11T17:08:56.491Z"
   },
   {
    "duration": 18,
    "start_time": "2023-04-11T17:10:22.486Z"
   },
   {
    "duration": 11,
    "start_time": "2023-04-11T17:12:24.500Z"
   },
   {
    "duration": 10,
    "start_time": "2023-04-11T17:12:30.967Z"
   },
   {
    "duration": 7,
    "start_time": "2023-04-11T17:12:37.195Z"
   },
   {
    "duration": 2380,
    "start_time": "2023-04-11T17:12:42.764Z"
   },
   {
    "duration": 2540,
    "start_time": "2023-04-11T17:13:46.540Z"
   },
   {
    "duration": 15,
    "start_time": "2023-04-11T17:14:43.220Z"
   },
   {
    "duration": 9,
    "start_time": "2023-04-11T17:15:20.212Z"
   },
   {
    "duration": 2,
    "start_time": "2023-04-11T17:18:09.569Z"
   },
   {
    "duration": 8,
    "start_time": "2023-04-11T17:18:19.180Z"
   },
   {
    "duration": 17,
    "start_time": "2023-04-11T17:19:13.267Z"
   },
   {
    "duration": 5,
    "start_time": "2023-04-11T17:51:37.761Z"
   },
   {
    "duration": 5,
    "start_time": "2023-04-11T17:53:04.010Z"
   },
   {
    "duration": 12,
    "start_time": "2023-04-11T17:53:33.418Z"
   },
   {
    "duration": 12,
    "start_time": "2023-04-11T17:53:43.326Z"
   },
   {
    "duration": 11,
    "start_time": "2023-04-11T17:53:56.384Z"
   },
   {
    "duration": 13,
    "start_time": "2023-04-11T17:54:35.842Z"
   },
   {
    "duration": 151,
    "start_time": "2023-04-11T17:54:44.278Z"
   },
   {
    "duration": 12,
    "start_time": "2023-04-11T17:54:47.887Z"
   },
   {
    "duration": 162,
    "start_time": "2023-04-11T17:54:57.902Z"
   },
   {
    "duration": 11,
    "start_time": "2023-04-11T17:55:02.530Z"
   },
   {
    "duration": 5,
    "start_time": "2023-04-11T18:00:42.525Z"
   },
   {
    "duration": 1593,
    "start_time": "2023-04-11T18:03:41.509Z"
   },
   {
    "duration": 9,
    "start_time": "2023-04-11T18:04:12.975Z"
   },
   {
    "duration": 3457,
    "start_time": "2023-04-11T18:05:03.075Z"
   },
   {
    "duration": 4,
    "start_time": "2023-04-11T18:05:52.922Z"
   },
   {
    "duration": 11,
    "start_time": "2023-04-11T18:07:42.315Z"
   },
   {
    "duration": 5,
    "start_time": "2023-04-11T18:07:59.266Z"
   },
   {
    "duration": 7,
    "start_time": "2023-04-11T18:08:00.477Z"
   },
   {
    "duration": 363,
    "start_time": "2023-04-11T18:10:03.665Z"
   },
   {
    "duration": 14,
    "start_time": "2023-04-11T18:10:32.129Z"
   },
   {
    "duration": 13,
    "start_time": "2023-04-11T18:10:47.097Z"
   },
   {
    "duration": 12,
    "start_time": "2023-04-11T18:11:14.031Z"
   },
   {
    "duration": 5,
    "start_time": "2023-04-11T18:12:01.523Z"
   },
   {
    "duration": 11,
    "start_time": "2023-04-11T18:12:02.268Z"
   },
   {
    "duration": 4,
    "start_time": "2023-04-11T18:12:15.342Z"
   },
   {
    "duration": 11,
    "start_time": "2023-04-11T18:12:15.973Z"
   },
   {
    "duration": 5,
    "start_time": "2023-04-11T18:12:50.637Z"
   },
   {
    "duration": 14,
    "start_time": "2023-04-11T18:12:52.529Z"
   },
   {
    "duration": 11,
    "start_time": "2023-04-11T18:13:06.829Z"
   },
   {
    "duration": 50,
    "start_time": "2023-04-12T09:19:00.202Z"
   },
   {
    "duration": 1990,
    "start_time": "2023-04-12T09:19:06.433Z"
   },
   {
    "duration": 263,
    "start_time": "2023-04-12T09:19:08.425Z"
   },
   {
    "duration": 73,
    "start_time": "2023-04-12T09:19:08.690Z"
   },
   {
    "duration": 169,
    "start_time": "2023-04-12T09:19:08.765Z"
   },
   {
    "duration": 17,
    "start_time": "2023-04-12T09:19:08.936Z"
   },
   {
    "duration": 30,
    "start_time": "2023-04-12T09:19:08.955Z"
   },
   {
    "duration": 500,
    "start_time": "2023-04-12T09:19:08.987Z"
   },
   {
    "duration": 9,
    "start_time": "2023-04-12T09:19:09.489Z"
   },
   {
    "duration": 8,
    "start_time": "2023-04-12T09:19:09.500Z"
   },
   {
    "duration": 36,
    "start_time": "2023-04-12T09:19:09.511Z"
   },
   {
    "duration": 92,
    "start_time": "2023-04-12T09:19:09.549Z"
   },
   {
    "duration": 307,
    "start_time": "2023-04-12T09:19:09.643Z"
   },
   {
    "duration": 82,
    "start_time": "2023-04-12T09:19:09.952Z"
   },
   {
    "duration": 3,
    "start_time": "2023-04-12T09:19:10.036Z"
   },
   {
    "duration": 153,
    "start_time": "2023-04-12T09:19:10.041Z"
   },
   {
    "duration": 7,
    "start_time": "2023-04-12T09:19:10.196Z"
   },
   {
    "duration": 17,
    "start_time": "2023-04-12T09:19:10.205Z"
   },
   {
    "duration": 1209,
    "start_time": "2023-04-12T09:19:10.223Z"
   },
   {
    "duration": 1723,
    "start_time": "2023-04-12T09:19:57.430Z"
   },
   {
    "duration": 2858,
    "start_time": "2023-04-12T09:20:14.432Z"
   },
   {
    "duration": 19,
    "start_time": "2023-04-12T09:20:32.582Z"
   },
   {
    "duration": 14,
    "start_time": "2023-04-12T09:20:46.207Z"
   },
   {
    "duration": 14,
    "start_time": "2023-04-12T09:20:57.125Z"
   },
   {
    "duration": 16,
    "start_time": "2023-04-12T09:21:38.203Z"
   },
   {
    "duration": 10,
    "start_time": "2023-04-12T09:22:01.925Z"
   },
   {
    "duration": 5,
    "start_time": "2023-04-12T09:22:14.482Z"
   },
   {
    "duration": 8,
    "start_time": "2023-04-12T09:23:34.557Z"
   },
   {
    "duration": 13,
    "start_time": "2023-04-12T09:23:48.085Z"
   },
   {
    "duration": 16,
    "start_time": "2023-04-12T09:23:54.684Z"
   },
   {
    "duration": 13,
    "start_time": "2023-04-12T09:24:03.525Z"
   },
   {
    "duration": 13,
    "start_time": "2023-04-12T09:24:14.628Z"
   },
   {
    "duration": 15,
    "start_time": "2023-04-12T09:25:27.756Z"
   },
   {
    "duration": 12,
    "start_time": "2023-04-12T09:27:18.908Z"
   },
   {
    "duration": 5,
    "start_time": "2023-04-12T09:27:59.081Z"
   },
   {
    "duration": 128,
    "start_time": "2023-04-12T09:28:33.824Z"
   },
   {
    "duration": 2556,
    "start_time": "2023-04-12T09:30:41.704Z"
   },
   {
    "duration": 12,
    "start_time": "2023-04-12T09:31:02.725Z"
   },
   {
    "duration": 11,
    "start_time": "2023-04-12T09:31:11.903Z"
   },
   {
    "duration": 1364,
    "start_time": "2023-04-12T09:31:23.749Z"
   },
   {
    "duration": 243,
    "start_time": "2023-04-12T09:31:25.115Z"
   },
   {
    "duration": 87,
    "start_time": "2023-04-12T09:31:25.360Z"
   },
   {
    "duration": 177,
    "start_time": "2023-04-12T09:31:25.449Z"
   },
   {
    "duration": 19,
    "start_time": "2023-04-12T09:31:25.627Z"
   },
   {
    "duration": 12,
    "start_time": "2023-04-12T09:31:25.647Z"
   },
   {
    "duration": 506,
    "start_time": "2023-04-12T09:31:25.660Z"
   },
   {
    "duration": 17,
    "start_time": "2023-04-12T09:31:26.168Z"
   },
   {
    "duration": 7,
    "start_time": "2023-04-12T09:31:26.187Z"
   },
   {
    "duration": 35,
    "start_time": "2023-04-12T09:31:26.196Z"
   },
   {
    "duration": 86,
    "start_time": "2023-04-12T09:31:26.233Z"
   },
   {
    "duration": 324,
    "start_time": "2023-04-12T09:31:26.320Z"
   },
   {
    "duration": 85,
    "start_time": "2023-04-12T09:31:26.646Z"
   },
   {
    "duration": 4,
    "start_time": "2023-04-12T09:31:26.733Z"
   },
   {
    "duration": 152,
    "start_time": "2023-04-12T09:31:26.739Z"
   },
   {
    "duration": 5,
    "start_time": "2023-04-12T09:31:26.893Z"
   },
   {
    "duration": 16,
    "start_time": "2023-04-12T09:31:26.900Z"
   },
   {
    "duration": 13,
    "start_time": "2023-04-12T09:31:26.917Z"
   },
   {
    "duration": 13,
    "start_time": "2023-04-12T09:31:26.932Z"
   },
   {
    "duration": 45,
    "start_time": "2023-04-12T09:31:26.947Z"
   },
   {
    "duration": 17,
    "start_time": "2023-04-12T09:32:49.252Z"
   },
   {
    "duration": 2934,
    "start_time": "2023-04-12T15:48:28.031Z"
   },
   {
    "duration": 279,
    "start_time": "2023-04-12T15:48:30.967Z"
   },
   {
    "duration": 98,
    "start_time": "2023-04-12T15:48:31.253Z"
   },
   {
    "duration": 239,
    "start_time": "2023-04-12T15:48:31.355Z"
   },
   {
    "duration": 40,
    "start_time": "2023-04-12T15:48:31.598Z"
   },
   {
    "duration": 37,
    "start_time": "2023-04-12T15:48:31.642Z"
   },
   {
    "duration": 681,
    "start_time": "2023-04-12T15:48:31.682Z"
   },
   {
    "duration": 8,
    "start_time": "2023-04-12T15:48:32.365Z"
   },
   {
    "duration": 28,
    "start_time": "2023-04-12T15:48:32.375Z"
   },
   {
    "duration": 67,
    "start_time": "2023-04-12T15:48:32.405Z"
   },
   {
    "duration": 77,
    "start_time": "2023-04-12T15:48:32.474Z"
   },
   {
    "duration": 415,
    "start_time": "2023-04-12T15:48:32.555Z"
   },
   {
    "duration": 90,
    "start_time": "2023-04-12T15:48:32.972Z"
   },
   {
    "duration": 5,
    "start_time": "2023-04-12T15:48:33.068Z"
   },
   {
    "duration": 181,
    "start_time": "2023-04-12T15:48:33.075Z"
   },
   {
    "duration": 10,
    "start_time": "2023-04-12T15:48:33.258Z"
   },
   {
    "duration": 80,
    "start_time": "2023-04-12T15:48:33.269Z"
   },
   {
    "duration": 16,
    "start_time": "2023-04-12T15:48:33.353Z"
   },
   {
    "duration": 28,
    "start_time": "2023-04-12T15:48:33.371Z"
   },
   {
    "duration": 169,
    "start_time": "2023-04-12T15:48:33.401Z"
   },
   {
    "duration": 0,
    "start_time": "2023-04-12T15:48:33.572Z"
   },
   {
    "duration": 0,
    "start_time": "2023-04-12T15:48:33.574Z"
   },
   {
    "duration": 0,
    "start_time": "2023-04-12T15:48:33.575Z"
   },
   {
    "duration": 0,
    "start_time": "2023-04-12T15:48:33.576Z"
   },
   {
    "duration": 6,
    "start_time": "2023-04-12T15:49:57.688Z"
   },
   {
    "duration": 1139,
    "start_time": "2023-04-12T15:50:05.956Z"
   },
   {
    "duration": 1600,
    "start_time": "2023-04-12T15:50:17.030Z"
   },
   {
    "duration": 305,
    "start_time": "2023-04-12T15:50:18.632Z"
   },
   {
    "duration": 110,
    "start_time": "2023-04-12T15:50:18.944Z"
   },
   {
    "duration": 242,
    "start_time": "2023-04-12T15:50:19.056Z"
   },
   {
    "duration": 29,
    "start_time": "2023-04-12T15:50:19.301Z"
   },
   {
    "duration": 31,
    "start_time": "2023-04-12T15:50:19.333Z"
   },
   {
    "duration": 662,
    "start_time": "2023-04-12T15:50:19.366Z"
   },
   {
    "duration": 12,
    "start_time": "2023-04-12T15:50:20.029Z"
   },
   {
    "duration": 32,
    "start_time": "2023-04-12T15:50:20.043Z"
   },
   {
    "duration": 55,
    "start_time": "2023-04-12T15:50:20.078Z"
   },
   {
    "duration": 94,
    "start_time": "2023-04-12T15:50:20.139Z"
   },
   {
    "duration": 388,
    "start_time": "2023-04-12T15:50:20.244Z"
   },
   {
    "duration": 89,
    "start_time": "2023-04-12T15:50:20.634Z"
   },
   {
    "duration": 5,
    "start_time": "2023-04-12T15:50:20.724Z"
   },
   {
    "duration": 155,
    "start_time": "2023-04-12T15:50:20.731Z"
   },
   {
    "duration": 8,
    "start_time": "2023-04-12T15:50:20.888Z"
   },
   {
    "duration": 26,
    "start_time": "2023-04-12T15:50:20.898Z"
   },
   {
    "duration": 30,
    "start_time": "2023-04-12T15:50:20.933Z"
   },
   {
    "duration": 12,
    "start_time": "2023-04-12T15:50:20.965Z"
   },
   {
    "duration": 13,
    "start_time": "2023-04-12T15:50:20.979Z"
   },
   {
    "duration": 12,
    "start_time": "2023-04-12T15:50:20.994Z"
   },
   {
    "duration": 26,
    "start_time": "2023-04-12T15:50:21.017Z"
   },
   {
    "duration": 21,
    "start_time": "2023-04-12T15:50:21.045Z"
   },
   {
    "duration": 14,
    "start_time": "2023-04-12T15:50:21.067Z"
   },
   {
    "duration": 13,
    "start_time": "2023-04-12T15:50:21.083Z"
   },
   {
    "duration": 19,
    "start_time": "2023-04-12T15:53:35.043Z"
   },
   {
    "duration": 90,
    "start_time": "2023-04-12T16:02:12.783Z"
   },
   {
    "duration": 20,
    "start_time": "2023-04-12T16:05:29.713Z"
   },
   {
    "duration": 91,
    "start_time": "2023-04-12T16:32:53.428Z"
   },
   {
    "duration": 84,
    "start_time": "2023-04-12T16:33:15.864Z"
   },
   {
    "duration": 1465,
    "start_time": "2023-04-12T16:39:12.203Z"
   },
   {
    "duration": 293,
    "start_time": "2023-04-12T16:39:13.670Z"
   },
   {
    "duration": 93,
    "start_time": "2023-04-12T16:39:13.965Z"
   },
   {
    "duration": 226,
    "start_time": "2023-04-12T16:39:14.061Z"
   },
   {
    "duration": 30,
    "start_time": "2023-04-12T16:39:14.288Z"
   },
   {
    "duration": 16,
    "start_time": "2023-04-12T16:39:14.328Z"
   },
   {
    "duration": 608,
    "start_time": "2023-04-12T16:39:14.345Z"
   },
   {
    "duration": 10,
    "start_time": "2023-04-12T16:39:14.955Z"
   },
   {
    "duration": 26,
    "start_time": "2023-04-12T16:39:14.967Z"
   },
   {
    "duration": 84,
    "start_time": "2023-04-12T16:39:14.996Z"
   },
   {
    "duration": 82,
    "start_time": "2023-04-12T16:39:15.082Z"
   },
   {
    "duration": 384,
    "start_time": "2023-04-12T16:39:15.166Z"
   },
   {
    "duration": 103,
    "start_time": "2023-04-12T16:39:15.552Z"
   },
   {
    "duration": 4,
    "start_time": "2023-04-12T16:39:15.656Z"
   },
   {
    "duration": 163,
    "start_time": "2023-04-12T16:39:15.662Z"
   },
   {
    "duration": 11,
    "start_time": "2023-04-12T16:39:15.835Z"
   },
   {
    "duration": 20,
    "start_time": "2023-04-12T16:39:15.848Z"
   },
   {
    "duration": 29,
    "start_time": "2023-04-12T16:39:15.870Z"
   },
   {
    "duration": 44,
    "start_time": "2023-04-12T16:39:15.900Z"
   },
   {
    "duration": 33,
    "start_time": "2023-04-12T16:39:15.946Z"
   },
   {
    "duration": 22,
    "start_time": "2023-04-12T16:39:15.980Z"
   },
   {
    "duration": 35,
    "start_time": "2023-04-12T16:39:16.003Z"
   },
   {
    "duration": 23,
    "start_time": "2023-04-12T16:39:16.040Z"
   },
   {
    "duration": 26,
    "start_time": "2023-04-12T16:39:16.065Z"
   },
   {
    "duration": 45,
    "start_time": "2023-04-12T16:39:16.093Z"
   },
   {
    "duration": 1837,
    "start_time": "2023-04-12T18:10:47.209Z"
   },
   {
    "duration": 216,
    "start_time": "2023-04-12T18:10:49.048Z"
   },
   {
    "duration": 66,
    "start_time": "2023-04-12T18:10:49.265Z"
   },
   {
    "duration": 183,
    "start_time": "2023-04-12T18:10:49.332Z"
   },
   {
    "duration": 17,
    "start_time": "2023-04-12T18:10:49.517Z"
   },
   {
    "duration": 11,
    "start_time": "2023-04-12T18:10:49.535Z"
   },
   {
    "duration": 465,
    "start_time": "2023-04-12T18:10:49.547Z"
   },
   {
    "duration": 8,
    "start_time": "2023-04-12T18:10:50.013Z"
   },
   {
    "duration": 9,
    "start_time": "2023-04-12T18:10:50.022Z"
   },
   {
    "duration": 53,
    "start_time": "2023-04-12T18:10:50.033Z"
   },
   {
    "duration": 59,
    "start_time": "2023-04-12T18:10:50.087Z"
   },
   {
    "duration": 292,
    "start_time": "2023-04-12T18:10:50.148Z"
   },
   {
    "duration": 83,
    "start_time": "2023-04-12T18:10:50.441Z"
   },
   {
    "duration": 3,
    "start_time": "2023-04-12T18:10:50.526Z"
   },
   {
    "duration": 160,
    "start_time": "2023-04-12T18:10:50.531Z"
   },
   {
    "duration": 7,
    "start_time": "2023-04-12T18:10:50.693Z"
   },
   {
    "duration": 27,
    "start_time": "2023-04-12T18:10:50.701Z"
   },
   {
    "duration": 26,
    "start_time": "2023-04-12T18:10:50.729Z"
   },
   {
    "duration": 11,
    "start_time": "2023-04-12T18:10:50.756Z"
   },
   {
    "duration": 24,
    "start_time": "2023-04-12T18:10:50.769Z"
   },
   {
    "duration": 16,
    "start_time": "2023-04-12T18:10:50.794Z"
   },
   {
    "duration": 13,
    "start_time": "2023-04-12T18:10:50.811Z"
   },
   {
    "duration": 26,
    "start_time": "2023-04-12T18:10:50.825Z"
   },
   {
    "duration": 17,
    "start_time": "2023-04-12T18:10:50.852Z"
   },
   {
    "duration": 52,
    "start_time": "2023-04-12T18:10:50.877Z"
   },
   {
    "duration": 2824,
    "start_time": "2023-04-14T09:29:40.180Z"
   },
   {
    "duration": 377,
    "start_time": "2023-04-14T09:29:43.007Z"
   },
   {
    "duration": 120,
    "start_time": "2023-04-14T09:29:43.387Z"
   },
   {
    "duration": 189,
    "start_time": "2023-04-14T09:29:43.510Z"
   },
   {
    "duration": 24,
    "start_time": "2023-04-14T09:29:43.701Z"
   },
   {
    "duration": 14,
    "start_time": "2023-04-14T09:29:43.727Z"
   },
   {
    "duration": 811,
    "start_time": "2023-04-14T09:29:43.753Z"
   },
   {
    "duration": 14,
    "start_time": "2023-04-14T09:29:44.566Z"
   },
   {
    "duration": 12,
    "start_time": "2023-04-14T09:29:44.583Z"
   },
   {
    "duration": 72,
    "start_time": "2023-04-14T09:29:44.599Z"
   },
   {
    "duration": 115,
    "start_time": "2023-04-14T09:29:44.675Z"
   },
   {
    "duration": 368,
    "start_time": "2023-04-14T09:29:44.793Z"
   },
   {
    "duration": 99,
    "start_time": "2023-04-14T09:29:45.163Z"
   },
   {
    "duration": 8,
    "start_time": "2023-04-14T09:29:45.268Z"
   },
   {
    "duration": 154,
    "start_time": "2023-04-14T09:29:45.289Z"
   },
   {
    "duration": 148,
    "start_time": "2023-04-14T09:29:45.446Z"
   },
   {
    "duration": 0,
    "start_time": "2023-04-14T09:29:45.596Z"
   },
   {
    "duration": 0,
    "start_time": "2023-04-14T09:29:45.598Z"
   },
   {
    "duration": 0,
    "start_time": "2023-04-14T09:29:45.599Z"
   },
   {
    "duration": 0,
    "start_time": "2023-04-14T09:29:45.601Z"
   },
   {
    "duration": 0,
    "start_time": "2023-04-14T09:29:45.602Z"
   },
   {
    "duration": 0,
    "start_time": "2023-04-14T09:29:45.604Z"
   },
   {
    "duration": 0,
    "start_time": "2023-04-14T09:29:45.606Z"
   },
   {
    "duration": 0,
    "start_time": "2023-04-14T09:29:45.607Z"
   },
   {
    "duration": 0,
    "start_time": "2023-04-14T09:29:45.609Z"
   },
   {
    "duration": 838,
    "start_time": "2023-04-14T09:31:05.524Z"
   },
   {
    "duration": 18,
    "start_time": "2023-04-14T09:32:56.501Z"
   },
   {
    "duration": 182,
    "start_time": "2023-04-14T09:33:26.324Z"
   },
   {
    "duration": 17,
    "start_time": "2023-04-14T09:33:56.700Z"
   },
   {
    "duration": 1882,
    "start_time": "2023-04-14T09:34:13.751Z"
   },
   {
    "duration": 415,
    "start_time": "2023-04-14T09:34:15.636Z"
   },
   {
    "duration": 116,
    "start_time": "2023-04-14T09:34:16.053Z"
   },
   {
    "duration": 264,
    "start_time": "2023-04-14T09:34:16.173Z"
   },
   {
    "duration": 28,
    "start_time": "2023-04-14T09:34:16.439Z"
   },
   {
    "duration": 21,
    "start_time": "2023-04-14T09:34:16.477Z"
   },
   {
    "duration": 645,
    "start_time": "2023-04-14T09:34:16.500Z"
   },
   {
    "duration": 14,
    "start_time": "2023-04-14T09:34:17.147Z"
   },
   {
    "duration": 21,
    "start_time": "2023-04-14T09:34:17.164Z"
   },
   {
    "duration": 61,
    "start_time": "2023-04-14T09:34:17.189Z"
   },
   {
    "duration": 92,
    "start_time": "2023-04-14T09:34:17.253Z"
   },
   {
    "duration": 438,
    "start_time": "2023-04-14T09:34:17.347Z"
   },
   {
    "duration": 137,
    "start_time": "2023-04-14T09:34:17.787Z"
   },
   {
    "duration": 5,
    "start_time": "2023-04-14T09:34:17.927Z"
   },
   {
    "duration": 166,
    "start_time": "2023-04-14T09:34:17.933Z"
   },
   {
    "duration": 13,
    "start_time": "2023-04-14T09:34:18.101Z"
   },
   {
    "duration": 247,
    "start_time": "2023-04-14T09:34:18.117Z"
   },
   {
    "duration": 5,
    "start_time": "2023-04-14T09:34:18.368Z"
   },
   {
    "duration": 39,
    "start_time": "2023-04-14T09:34:18.375Z"
   },
   {
    "duration": 21,
    "start_time": "2023-04-14T09:34:18.416Z"
   },
   {
    "duration": 60,
    "start_time": "2023-04-14T09:34:18.439Z"
   },
   {
    "duration": 24,
    "start_time": "2023-04-14T09:34:18.502Z"
   },
   {
    "duration": 64,
    "start_time": "2023-04-14T09:34:18.528Z"
   },
   {
    "duration": 17,
    "start_time": "2023-04-14T09:34:18.597Z"
   },
   {
    "duration": 16,
    "start_time": "2023-04-14T09:34:18.617Z"
   },
   {
    "duration": 52,
    "start_time": "2023-04-14T09:34:18.636Z"
   },
   {
    "duration": 20112,
    "start_time": "2023-04-14T09:41:55.155Z"
   },
   {
    "duration": 5098,
    "start_time": "2023-04-14T09:42:48.647Z"
   },
   {
    "duration": 12,
    "start_time": "2023-04-14T09:43:04.301Z"
   },
   {
    "duration": 23,
    "start_time": "2023-04-14T09:43:20.204Z"
   },
   {
    "duration": 2558,
    "start_time": "2023-04-14T09:43:38.316Z"
   },
   {
    "duration": 12,
    "start_time": "2023-04-14T09:44:11.999Z"
   },
   {
    "duration": 25,
    "start_time": "2023-04-14T09:45:05.284Z"
   },
   {
    "duration": 51,
    "start_time": "2023-04-14T13:26:24.733Z"
   },
   {
    "duration": 63,
    "start_time": "2023-04-14T13:28:31.302Z"
   },
   {
    "duration": 941,
    "start_time": "2023-04-14T13:29:00.465Z"
   },
   {
    "duration": 90,
    "start_time": "2023-04-14T20:12:59.156Z"
   },
   {
    "duration": 47,
    "start_time": "2023-04-14T20:13:07.337Z"
   },
   {
    "duration": 2075,
    "start_time": "2023-04-14T20:13:15.570Z"
   },
   {
    "duration": 244,
    "start_time": "2023-04-14T20:13:17.647Z"
   },
   {
    "duration": 93,
    "start_time": "2023-04-14T20:13:17.894Z"
   },
   {
    "duration": 193,
    "start_time": "2023-04-14T20:13:17.989Z"
   },
   {
    "duration": 23,
    "start_time": "2023-04-14T20:13:18.184Z"
   },
   {
    "duration": 13,
    "start_time": "2023-04-14T20:13:18.209Z"
   },
   {
    "duration": 560,
    "start_time": "2023-04-14T20:13:18.223Z"
   },
   {
    "duration": 12,
    "start_time": "2023-04-14T20:13:18.788Z"
   },
   {
    "duration": 22,
    "start_time": "2023-04-14T20:13:18.802Z"
   },
   {
    "duration": 7,
    "start_time": "2023-04-14T20:13:18.826Z"
   },
   {
    "duration": 56,
    "start_time": "2023-04-14T20:13:18.834Z"
   },
   {
    "duration": 73,
    "start_time": "2023-04-14T20:13:18.892Z"
   },
   {
    "duration": 348,
    "start_time": "2023-04-14T20:13:18.967Z"
   },
   {
    "duration": 88,
    "start_time": "2023-04-14T20:13:19.317Z"
   },
   {
    "duration": 4,
    "start_time": "2023-04-14T20:13:19.406Z"
   },
   {
    "duration": 145,
    "start_time": "2023-04-14T20:13:19.412Z"
   },
   {
    "duration": 8,
    "start_time": "2023-04-14T20:13:19.559Z"
   },
   {
    "duration": 176,
    "start_time": "2023-04-14T20:13:19.568Z"
   },
   {
    "duration": 74,
    "start_time": "2023-04-14T20:13:19.745Z"
   },
   {
    "duration": 5,
    "start_time": "2023-04-14T20:13:19.821Z"
   },
   {
    "duration": 70,
    "start_time": "2023-04-14T20:13:19.827Z"
   },
   {
    "duration": 31,
    "start_time": "2023-04-14T20:13:19.899Z"
   },
   {
    "duration": 27,
    "start_time": "2023-04-14T20:13:19.931Z"
   },
   {
    "duration": 31,
    "start_time": "2023-04-14T20:13:19.959Z"
   },
   {
    "duration": 36,
    "start_time": "2023-04-14T20:13:19.992Z"
   },
   {
    "duration": 24,
    "start_time": "2023-04-14T20:13:20.030Z"
   },
   {
    "duration": 39,
    "start_time": "2023-04-14T20:13:20.055Z"
   },
   {
    "duration": 19,
    "start_time": "2023-04-14T20:13:20.101Z"
   },
   {
    "duration": 1833,
    "start_time": "2023-04-14T23:35:21.327Z"
   },
   {
    "duration": 212,
    "start_time": "2023-04-14T23:35:23.161Z"
   },
   {
    "duration": 71,
    "start_time": "2023-04-14T23:35:23.375Z"
   },
   {
    "duration": 156,
    "start_time": "2023-04-14T23:35:23.449Z"
   },
   {
    "duration": 16,
    "start_time": "2023-04-14T23:35:23.607Z"
   },
   {
    "duration": 14,
    "start_time": "2023-04-14T23:35:23.635Z"
   },
   {
    "duration": 462,
    "start_time": "2023-04-14T23:35:23.651Z"
   },
   {
    "duration": 8,
    "start_time": "2023-04-14T23:35:24.114Z"
   },
   {
    "duration": 20,
    "start_time": "2023-04-14T23:35:24.124Z"
   },
   {
    "duration": 7,
    "start_time": "2023-04-14T23:35:24.146Z"
   },
   {
    "duration": 34,
    "start_time": "2023-04-14T23:35:24.155Z"
   },
   {
    "duration": 88,
    "start_time": "2023-04-14T23:35:24.190Z"
   },
   {
    "duration": 313,
    "start_time": "2023-04-14T23:35:24.280Z"
   },
   {
    "duration": 92,
    "start_time": "2023-04-14T23:35:24.595Z"
   },
   {
    "duration": 4,
    "start_time": "2023-04-14T23:35:24.689Z"
   },
   {
    "duration": 134,
    "start_time": "2023-04-14T23:35:24.695Z"
   },
   {
    "duration": 8,
    "start_time": "2023-04-14T23:35:24.831Z"
   },
   {
    "duration": 312,
    "start_time": "2023-04-14T23:35:24.841Z"
   },
   {
    "duration": 83,
    "start_time": "2023-04-14T23:35:25.155Z"
   },
   {
    "duration": 5,
    "start_time": "2023-04-14T23:35:25.239Z"
   },
   {
    "duration": 17,
    "start_time": "2023-04-14T23:35:25.245Z"
   },
   {
    "duration": 15,
    "start_time": "2023-04-14T23:35:25.264Z"
   },
   {
    "duration": 65,
    "start_time": "2023-04-14T23:35:25.280Z"
   },
   {
    "duration": 16,
    "start_time": "2023-04-14T23:35:25.347Z"
   },
   {
    "duration": 16,
    "start_time": "2023-04-14T23:35:25.365Z"
   },
   {
    "duration": 13,
    "start_time": "2023-04-14T23:35:25.435Z"
   },
   {
    "duration": 15,
    "start_time": "2023-04-14T23:35:25.449Z"
   },
   {
    "duration": 14,
    "start_time": "2023-04-14T23:35:25.467Z"
   },
   {
    "duration": 37,
    "start_time": "2023-04-14T23:37:07.449Z"
   },
   {
    "duration": 127,
    "start_time": "2023-04-14T23:39:54.962Z"
   },
   {
    "duration": 22,
    "start_time": "2023-04-14T23:40:03.241Z"
   },
   {
    "duration": 22,
    "start_time": "2023-04-14T23:40:57.752Z"
   },
   {
    "duration": 11,
    "start_time": "2023-04-14T23:41:08.095Z"
   },
   {
    "duration": 1753,
    "start_time": "2023-04-15T17:30:53.540Z"
   },
   {
    "duration": 191,
    "start_time": "2023-04-15T17:30:55.294Z"
   },
   {
    "duration": 58,
    "start_time": "2023-04-15T17:30:55.487Z"
   },
   {
    "duration": 156,
    "start_time": "2023-04-15T17:30:55.547Z"
   },
   {
    "duration": 19,
    "start_time": "2023-04-15T17:30:55.704Z"
   },
   {
    "duration": 11,
    "start_time": "2023-04-15T17:30:55.724Z"
   },
   {
    "duration": 530,
    "start_time": "2023-04-15T17:30:55.737Z"
   },
   {
    "duration": 11,
    "start_time": "2023-04-15T17:30:56.269Z"
   },
   {
    "duration": 18,
    "start_time": "2023-04-15T17:30:56.282Z"
   },
   {
    "duration": 19,
    "start_time": "2023-04-15T17:30:56.303Z"
   },
   {
    "duration": 19,
    "start_time": "2023-04-15T17:30:56.324Z"
   },
   {
    "duration": 32,
    "start_time": "2023-04-15T17:30:56.344Z"
   },
   {
    "duration": 45,
    "start_time": "2023-04-15T17:30:56.378Z"
   },
   {
    "duration": 61,
    "start_time": "2023-04-15T17:30:56.425Z"
   },
   {
    "duration": 272,
    "start_time": "2023-04-15T17:30:56.488Z"
   },
   {
    "duration": 67,
    "start_time": "2023-04-15T17:30:56.761Z"
   },
   {
    "duration": 3,
    "start_time": "2023-04-15T17:30:56.830Z"
   },
   {
    "duration": 131,
    "start_time": "2023-04-15T17:30:56.834Z"
   },
   {
    "duration": 8,
    "start_time": "2023-04-15T17:30:56.966Z"
   },
   {
    "duration": 150,
    "start_time": "2023-04-15T17:30:56.976Z"
   },
   {
    "duration": 54,
    "start_time": "2023-04-15T17:30:57.128Z"
   },
   {
    "duration": 88,
    "start_time": "2023-04-15T17:30:57.184Z"
   },
   {
    "duration": 5,
    "start_time": "2023-04-15T17:30:57.274Z"
   },
   {
    "duration": 15,
    "start_time": "2023-04-15T17:30:57.280Z"
   },
   {
    "duration": 11,
    "start_time": "2023-04-15T17:30:57.297Z"
   },
   {
    "duration": 16,
    "start_time": "2023-04-15T17:30:57.309Z"
   },
   {
    "duration": 11,
    "start_time": "2023-04-15T17:30:57.326Z"
   },
   {
    "duration": 41,
    "start_time": "2023-04-15T17:30:57.340Z"
   },
   {
    "duration": 19,
    "start_time": "2023-04-15T17:30:57.382Z"
   },
   {
    "duration": 11,
    "start_time": "2023-04-15T17:30:57.403Z"
   },
   {
    "duration": 15,
    "start_time": "2023-04-15T17:30:57.415Z"
   },
   {
    "duration": 14,
    "start_time": "2023-04-15T17:33:12.109Z"
   },
   {
    "duration": 15,
    "start_time": "2023-04-15T17:33:58.529Z"
   },
   {
    "duration": 38,
    "start_time": "2023-04-15T17:35:07.723Z"
   },
   {
    "duration": 46,
    "start_time": "2023-04-15T17:37:18.979Z"
   },
   {
    "duration": 16,
    "start_time": "2023-04-15T17:42:45.315Z"
   },
   {
    "duration": 15,
    "start_time": "2023-04-15T17:43:43.362Z"
   },
   {
    "duration": 18,
    "start_time": "2023-04-15T17:44:55.737Z"
   },
   {
    "duration": 16,
    "start_time": "2023-04-15T17:45:12.572Z"
   },
   {
    "duration": 16,
    "start_time": "2023-04-15T17:45:34.827Z"
   },
   {
    "duration": 23,
    "start_time": "2023-04-15T17:46:53.237Z"
   },
   {
    "duration": 22,
    "start_time": "2023-04-15T17:46:59.965Z"
   },
   {
    "duration": 24,
    "start_time": "2023-04-15T17:47:48.916Z"
   },
   {
    "duration": 25,
    "start_time": "2023-04-15T17:48:08.921Z"
   },
   {
    "duration": 38,
    "start_time": "2023-04-15T17:48:25.113Z"
   },
   {
    "duration": 38,
    "start_time": "2023-04-15T17:48:38.259Z"
   },
   {
    "duration": 86,
    "start_time": "2023-04-15T17:49:51.429Z"
   },
   {
    "duration": 147,
    "start_time": "2023-04-15T17:50:04.732Z"
   },
   {
    "duration": 23,
    "start_time": "2023-04-15T17:50:47.912Z"
   },
   {
    "duration": 26,
    "start_time": "2023-04-15T17:51:18.965Z"
   },
   {
    "duration": 34,
    "start_time": "2023-04-15T17:51:29.552Z"
   },
   {
    "duration": 22,
    "start_time": "2023-04-15T17:51:56.513Z"
   },
   {
    "duration": 24,
    "start_time": "2023-04-15T17:52:26.429Z"
   },
   {
    "duration": 23,
    "start_time": "2023-04-15T17:53:16.533Z"
   },
   {
    "duration": 18,
    "start_time": "2023-04-15T17:53:52.537Z"
   },
   {
    "duration": 12,
    "start_time": "2023-04-15T18:00:23.718Z"
   },
   {
    "duration": 15,
    "start_time": "2023-04-15T18:00:35.830Z"
   },
   {
    "duration": 1227,
    "start_time": "2023-04-15T18:00:46.518Z"
   },
   {
    "duration": 206,
    "start_time": "2023-04-15T18:00:47.747Z"
   },
   {
    "duration": 72,
    "start_time": "2023-04-15T18:00:47.955Z"
   },
   {
    "duration": 166,
    "start_time": "2023-04-15T18:00:48.028Z"
   },
   {
    "duration": 17,
    "start_time": "2023-04-15T18:00:48.197Z"
   },
   {
    "duration": 10,
    "start_time": "2023-04-15T18:00:48.216Z"
   },
   {
    "duration": 467,
    "start_time": "2023-04-15T18:00:48.228Z"
   },
   {
    "duration": 5,
    "start_time": "2023-04-15T18:00:48.697Z"
   },
   {
    "duration": 110,
    "start_time": "2023-04-15T18:00:48.703Z"
   },
   {
    "duration": 0,
    "start_time": "2023-04-15T18:00:48.815Z"
   },
   {
    "duration": 0,
    "start_time": "2023-04-15T18:00:48.816Z"
   },
   {
    "duration": 0,
    "start_time": "2023-04-15T18:00:48.817Z"
   },
   {
    "duration": 0,
    "start_time": "2023-04-15T18:00:48.818Z"
   },
   {
    "duration": 0,
    "start_time": "2023-04-15T18:00:48.819Z"
   },
   {
    "duration": 0,
    "start_time": "2023-04-15T18:00:48.820Z"
   },
   {
    "duration": 0,
    "start_time": "2023-04-15T18:00:48.821Z"
   },
   {
    "duration": 0,
    "start_time": "2023-04-15T18:00:48.823Z"
   },
   {
    "duration": 0,
    "start_time": "2023-04-15T18:00:48.824Z"
   },
   {
    "duration": 0,
    "start_time": "2023-04-15T18:00:48.825Z"
   },
   {
    "duration": 0,
    "start_time": "2023-04-15T18:00:48.826Z"
   },
   {
    "duration": 0,
    "start_time": "2023-04-15T18:00:48.828Z"
   },
   {
    "duration": 0,
    "start_time": "2023-04-15T18:00:48.829Z"
   },
   {
    "duration": 0,
    "start_time": "2023-04-15T18:00:48.830Z"
   },
   {
    "duration": 0,
    "start_time": "2023-04-15T18:00:48.831Z"
   },
   {
    "duration": 0,
    "start_time": "2023-04-15T18:00:48.833Z"
   },
   {
    "duration": 0,
    "start_time": "2023-04-15T18:00:48.835Z"
   },
   {
    "duration": 0,
    "start_time": "2023-04-15T18:00:48.836Z"
   },
   {
    "duration": 0,
    "start_time": "2023-04-15T18:00:48.837Z"
   },
   {
    "duration": 0,
    "start_time": "2023-04-15T18:00:48.838Z"
   },
   {
    "duration": 0,
    "start_time": "2023-04-15T18:00:48.840Z"
   },
   {
    "duration": 0,
    "start_time": "2023-04-15T18:00:48.874Z"
   },
   {
    "duration": 0,
    "start_time": "2023-04-15T18:00:48.875Z"
   },
   {
    "duration": 10,
    "start_time": "2023-04-15T18:01:01.717Z"
   },
   {
    "duration": 21,
    "start_time": "2023-04-15T18:01:04.540Z"
   },
   {
    "duration": 1270,
    "start_time": "2023-04-15T18:02:12.717Z"
   },
   {
    "duration": 227,
    "start_time": "2023-04-15T18:02:13.990Z"
   },
   {
    "duration": 72,
    "start_time": "2023-04-15T18:02:14.218Z"
   },
   {
    "duration": 158,
    "start_time": "2023-04-15T18:02:14.291Z"
   },
   {
    "duration": 34,
    "start_time": "2023-04-15T18:02:14.452Z"
   },
   {
    "duration": 28,
    "start_time": "2023-04-15T18:02:14.488Z"
   },
   {
    "duration": 477,
    "start_time": "2023-04-15T18:02:14.518Z"
   },
   {
    "duration": 4,
    "start_time": "2023-04-15T18:02:14.999Z"
   },
   {
    "duration": 43,
    "start_time": "2023-04-15T18:02:15.005Z"
   },
   {
    "duration": 54,
    "start_time": "2023-04-15T18:02:15.050Z"
   },
   {
    "duration": 22,
    "start_time": "2023-04-15T18:02:15.105Z"
   },
   {
    "duration": 13,
    "start_time": "2023-04-15T18:02:15.129Z"
   },
   {
    "duration": 99,
    "start_time": "2023-04-15T18:02:15.144Z"
   },
   {
    "duration": 0,
    "start_time": "2023-04-15T18:02:15.246Z"
   },
   {
    "duration": 0,
    "start_time": "2023-04-15T18:02:15.247Z"
   },
   {
    "duration": 0,
    "start_time": "2023-04-15T18:02:15.248Z"
   },
   {
    "duration": 0,
    "start_time": "2023-04-15T18:02:15.249Z"
   },
   {
    "duration": 0,
    "start_time": "2023-04-15T18:02:15.251Z"
   },
   {
    "duration": 0,
    "start_time": "2023-04-15T18:02:15.252Z"
   },
   {
    "duration": 0,
    "start_time": "2023-04-15T18:02:15.253Z"
   },
   {
    "duration": 0,
    "start_time": "2023-04-15T18:02:15.272Z"
   },
   {
    "duration": 0,
    "start_time": "2023-04-15T18:02:15.273Z"
   },
   {
    "duration": 0,
    "start_time": "2023-04-15T18:02:15.274Z"
   },
   {
    "duration": 0,
    "start_time": "2023-04-15T18:02:15.275Z"
   },
   {
    "duration": 0,
    "start_time": "2023-04-15T18:02:15.276Z"
   },
   {
    "duration": 0,
    "start_time": "2023-04-15T18:02:15.277Z"
   },
   {
    "duration": 0,
    "start_time": "2023-04-15T18:02:15.278Z"
   },
   {
    "duration": 0,
    "start_time": "2023-04-15T18:02:15.279Z"
   },
   {
    "duration": 0,
    "start_time": "2023-04-15T18:02:15.280Z"
   },
   {
    "duration": 0,
    "start_time": "2023-04-15T18:02:15.281Z"
   },
   {
    "duration": 1,
    "start_time": "2023-04-15T18:02:15.282Z"
   },
   {
    "duration": 0,
    "start_time": "2023-04-15T18:02:15.284Z"
   },
   {
    "duration": 1318,
    "start_time": "2023-04-15T18:02:45.612Z"
   },
   {
    "duration": 229,
    "start_time": "2023-04-15T18:02:46.932Z"
   },
   {
    "duration": 65,
    "start_time": "2023-04-15T18:02:47.162Z"
   },
   {
    "duration": 164,
    "start_time": "2023-04-15T18:02:47.229Z"
   },
   {
    "duration": 16,
    "start_time": "2023-04-15T18:02:47.395Z"
   },
   {
    "duration": 10,
    "start_time": "2023-04-15T18:02:47.412Z"
   },
   {
    "duration": 459,
    "start_time": "2023-04-15T18:02:47.424Z"
   },
   {
    "duration": 7,
    "start_time": "2023-04-15T18:02:47.886Z"
   },
   {
    "duration": 6,
    "start_time": "2023-04-15T18:02:47.895Z"
   },
   {
    "duration": 22,
    "start_time": "2023-04-15T18:02:47.903Z"
   },
   {
    "duration": 13,
    "start_time": "2023-04-15T18:02:47.927Z"
   },
   {
    "duration": 45,
    "start_time": "2023-04-15T18:02:47.942Z"
   },
   {
    "duration": 6,
    "start_time": "2023-04-15T18:02:47.989Z"
   },
   {
    "duration": 37,
    "start_time": "2023-04-15T18:02:47.998Z"
   },
   {
    "duration": 57,
    "start_time": "2023-04-15T18:02:48.037Z"
   },
   {
    "duration": 308,
    "start_time": "2023-04-15T18:02:48.096Z"
   },
   {
    "duration": 58,
    "start_time": "2023-04-15T18:02:48.405Z"
   },
   {
    "duration": 23,
    "start_time": "2023-04-15T18:02:48.464Z"
   },
   {
    "duration": 122,
    "start_time": "2023-04-15T18:02:48.489Z"
   },
   {
    "duration": 7,
    "start_time": "2023-04-15T18:02:48.612Z"
   },
   {
    "duration": 169,
    "start_time": "2023-04-15T18:02:48.621Z"
   },
   {
    "duration": 91,
    "start_time": "2023-04-15T18:02:48.792Z"
   },
   {
    "duration": 41,
    "start_time": "2023-04-15T18:02:48.889Z"
   },
   {
    "duration": 5,
    "start_time": "2023-04-15T18:02:48.932Z"
   },
   {
    "duration": 56,
    "start_time": "2023-04-15T18:02:48.938Z"
   },
   {
    "duration": 16,
    "start_time": "2023-04-15T18:02:48.996Z"
   },
   {
    "duration": 12,
    "start_time": "2023-04-15T18:02:49.014Z"
   },
   {
    "duration": 15,
    "start_time": "2023-04-15T18:02:49.028Z"
   },
   {
    "duration": 14,
    "start_time": "2023-04-15T18:02:49.044Z"
   },
   {
    "duration": 24,
    "start_time": "2023-04-15T18:02:49.073Z"
   },
   {
    "duration": 12,
    "start_time": "2023-04-15T18:02:49.099Z"
   },
   {
    "duration": 19,
    "start_time": "2023-04-15T18:02:49.113Z"
   },
   {
    "duration": 1707,
    "start_time": "2023-04-15T18:43:29.717Z"
   },
   {
    "duration": 225,
    "start_time": "2023-04-15T18:43:31.426Z"
   },
   {
    "duration": 83,
    "start_time": "2023-04-15T18:43:31.652Z"
   },
   {
    "duration": 186,
    "start_time": "2023-04-15T18:43:31.737Z"
   },
   {
    "duration": 24,
    "start_time": "2023-04-15T18:43:31.925Z"
   },
   {
    "duration": 12,
    "start_time": "2023-04-15T18:43:31.950Z"
   },
   {
    "duration": 520,
    "start_time": "2023-04-15T18:43:31.963Z"
   },
   {
    "duration": 7,
    "start_time": "2023-04-15T18:43:32.485Z"
   },
   {
    "duration": 22,
    "start_time": "2023-04-15T18:43:32.493Z"
   },
   {
    "duration": 29,
    "start_time": "2023-04-15T18:43:32.516Z"
   },
   {
    "duration": 27,
    "start_time": "2023-04-15T18:43:32.546Z"
   },
   {
    "duration": 32,
    "start_time": "2023-04-15T18:43:32.574Z"
   },
   {
    "duration": 7,
    "start_time": "2023-04-15T18:43:32.608Z"
   },
   {
    "duration": 37,
    "start_time": "2023-04-15T18:43:32.617Z"
   },
   {
    "duration": 71,
    "start_time": "2023-04-15T18:43:32.656Z"
   },
   {
    "duration": 309,
    "start_time": "2023-04-15T18:43:32.729Z"
   },
   {
    "duration": 69,
    "start_time": "2023-04-15T18:43:33.039Z"
   },
   {
    "duration": 4,
    "start_time": "2023-04-15T18:43:33.109Z"
   },
   {
    "duration": 149,
    "start_time": "2023-04-15T18:43:33.114Z"
   },
   {
    "duration": 9,
    "start_time": "2023-04-15T18:43:33.265Z"
   },
   {
    "duration": 326,
    "start_time": "2023-04-15T18:43:33.275Z"
   },
   {
    "duration": 64,
    "start_time": "2023-04-15T18:43:33.603Z"
   },
   {
    "duration": 94,
    "start_time": "2023-04-15T18:43:33.668Z"
   },
   {
    "duration": 5,
    "start_time": "2023-04-15T18:43:33.764Z"
   },
   {
    "duration": 20,
    "start_time": "2023-04-15T18:43:33.771Z"
   },
   {
    "duration": 17,
    "start_time": "2023-04-15T18:43:33.792Z"
   },
   {
    "duration": 32,
    "start_time": "2023-04-15T18:43:33.810Z"
   },
   {
    "duration": 19,
    "start_time": "2023-04-15T18:43:33.843Z"
   },
   {
    "duration": 13,
    "start_time": "2023-04-15T18:43:33.864Z"
   },
   {
    "duration": 23,
    "start_time": "2023-04-15T18:43:33.879Z"
   },
   {
    "duration": 27,
    "start_time": "2023-04-15T18:43:33.903Z"
   },
   {
    "duration": 35,
    "start_time": "2023-04-15T18:43:33.935Z"
   },
   {
    "duration": 15,
    "start_time": "2023-04-15T18:51:43.033Z"
   }
  ],
  "kernelspec": {
   "display_name": "Python 3 (ipykernel)",
   "language": "python",
   "name": "python3"
  },
  "language_info": {
   "codemirror_mode": {
    "name": "ipython",
    "version": 3
   },
   "file_extension": ".py",
   "mimetype": "text/x-python",
   "name": "python",
   "nbconvert_exporter": "python",
   "pygments_lexer": "ipython3",
   "version": "3.9.5"
  },
  "toc": {
   "base_numbering": 1,
   "nav_menu": {},
   "number_sections": true,
   "sideBar": true,
   "skip_h1_title": true,
   "title_cell": "Table of Contents",
   "title_sidebar": "Contents",
   "toc_cell": false,
   "toc_position": {},
   "toc_section_display": true,
   "toc_window_display": false
  }
 },
 "nbformat": 4,
 "nbformat_minor": 2
}
